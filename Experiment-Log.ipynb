{
 "cells": [
  {
   "cell_type": "markdown",
   "metadata": {},
   "source": [
    "# NLP Task Experiment Log"
   ]
  },
  {
   "cell_type": "markdown",
   "metadata": {},
   "source": [
    "### Date - 03 Apr 2021\n",
    "\n",
    "\n",
    "## Initial Observations & Planning -\n",
    "\n",
    "* This is a classic text classification problem of NLP. \n",
    "* We have to predict the primary product category based on product description mainly. (would test on other features to see if test accuracy gets improved or not).\n",
    "* Also, I have to extract the primary category from the product category tree column. (which is clearly the first entry in the product cateogry tree)\n",
    "* I'll try to visualize the frequency of all primary categories and remove the least frequent ones. \n",
    "* To preprocess the description, I would have to remove the stop words and punctuation marks to start with. And later, I am thinking of taking root word for each word in the description of each row. (e.g. played and playing).\n",
    "* Instead of making a 2D matrix manually by calculating frequency using dictionary, I'll use <strong>CountVectorizer</strong> from <strong>sklearn.feature_extraction.text</strong> to get the 2D numpy frequency array directly from the cleaned description column. (save time and avoid mistakes)\n",
    "* I will split the train and test data using train_test_data using sklearn.model_selection\n",
    "* Then, I would use common algorithms from sklearn and train every classifier on the training data for description and primary category. Later, I also plan to use neural networks models. \n",
    "* Finally, I would analyse the test acurracy, F1-score etc of each algorithm (using classficiation report and confusion matrix) from sklearn.metrics to find out which algorithm works the best. \n",
    "\n",
    "## Implementation - \n",
    "\n",
    "* Lorem ipsum"
   ]
  },
  {
   "cell_type": "markdown",
   "metadata": {},
   "source": [
    "### Date - 04 Apr 2021\n",
    "\n",
    "\n",
    "## Today's Planning -\n",
    "\n",
    "* Today, I plan to do some reseach on cleaning of text data. (read articles/explore documentation of NLTK)\n",
    "* After doing the data cleaning and preprocessing again on the data, I will lookup better and more visualizations for our data and implement them.\n",
    "* Though I achieved a good accuracy the previous day, I will GridSearchCV to tune the hyperparameters of my current models to get even better accuracy.\n",
    "* I will try advanced algorithms in sklearn and compare its accuracy with the algorithms used until now.\n",
    "* I will try to explore other metrics to analyse the performance my models. \n",
    "\n",
    "## Implementation - \n",
    "\n",
    "* Lorem Ipsum"
   ]
  },
  {
   "cell_type": "markdown",
   "metadata": {},
   "source": [
    "### Date - 05 Apr 2021\n",
    "\n",
    "\n",
    "## Today's Planning -\n",
    "\n",
    "* Lorem Ipsum\n",
    "\n",
    "## Implementation - \n",
    "\n",
    "* Lorem Ipsum"
   ]
  },
  {
   "cell_type": "markdown",
   "metadata": {},
   "source": [
    "### Date - 06 Apr 2021\n",
    "\n",
    "\n",
    "## Today's Planning -\n",
    "\n",
    "* Lorem Ipsum\n",
    "\n",
    "## Implementation - \n",
    "\n",
    "* Lorem Ipsum"
   ]
  },
  {
   "cell_type": "markdown",
   "metadata": {},
   "source": [
    "### Date - 07 Apr 2021\n",
    "\n",
    "\n",
    "## Today's Planning -\n",
    "\n",
    "* Lorem Ipsum\n",
    "\n",
    "## Implementation - \n",
    "\n",
    "* Lorem Ipsum"
   ]
  },
  {
   "cell_type": "markdown",
   "metadata": {},
   "source": [
    "# Citations\n",
    "\n",
    "* https://neptune.ai/blog/text-classification-tips-and-tricks-kaggle-competitions\n",
    "* "
   ]
  },
  {
   "cell_type": "code",
   "execution_count": null,
   "metadata": {},
   "outputs": [],
   "source": [
    "<strong>FAILED!</strong> \n",
    "<strong>WORKED!</strong>"
   ]
  },
  {
   "cell_type": "code",
   "execution_count": null,
   "metadata": {},
   "outputs": [],
   "source": []
  }
 ],
 "metadata": {
  "kernelspec": {
   "display_name": "Python 3",
   "language": "python",
   "name": "python3"
  },
  "language_info": {
   "codemirror_mode": {
    "name": "ipython",
    "version": 3
   },
   "file_extension": ".py",
   "mimetype": "text/x-python",
   "name": "python",
   "nbconvert_exporter": "python",
   "pygments_lexer": "ipython3",
   "version": "3.8.5"
  }
 },
 "nbformat": 4,
 "nbformat_minor": 4
}
