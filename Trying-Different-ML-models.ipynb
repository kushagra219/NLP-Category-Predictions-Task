{
 "cells": [
  {
   "cell_type": "code",
   "execution_count": 155,
   "metadata": {},
   "outputs": [],
   "source": [
    "import string\n",
    "\n",
    "# data manipulation & vizualization libraries\n",
    "import numpy as np\n",
    "import pandas as pd\n",
    "import matplotlib.pyplot as plt\n",
    "%matplotlib inline\n",
    "import seaborn as sns\n",
    "\n",
    "# sklearn imports\n",
    "from sklearn import ensemble\n",
    "from sklearn.naive_bayes import MultinomialNB, BernoulliNB\n",
    "from sklearn.feature_extraction.text import CountVectorizer, TfidfVectorizer, TfidfTransformer\n",
    "from sklearn.model_selection import train_test_split \n",
    "from sklearn.metrics import classification_report, confusion_matrix\n",
    "from sklearn.neighbors import NearestCentroid, KNeighborsClassifier\n",
    "import sklearn_crfsuite\n",
    "from sklearn_crfsuite import metrics\n",
    "from sklearn.pipeline import Pipeline\n",
    "from xgboost import XGBClassifier"
   ]
  },
  {
   "cell_type": "code",
   "execution_count": 91,
   "metadata": {},
   "outputs": [
    {
     "data": {
      "text/html": [
       "<div>\n",
       "<style scoped>\n",
       "    .dataframe tbody tr th:only-of-type {\n",
       "        vertical-align: middle;\n",
       "    }\n",
       "\n",
       "    .dataframe tbody tr th {\n",
       "        vertical-align: top;\n",
       "    }\n",
       "\n",
       "    .dataframe thead th {\n",
       "        text-align: right;\n",
       "    }\n",
       "</style>\n",
       "<table border=\"1\" class=\"dataframe\">\n",
       "  <thead>\n",
       "    <tr style=\"text-align: right;\">\n",
       "      <th></th>\n",
       "      <th>description</th>\n",
       "      <th>primary_category</th>\n",
       "    </tr>\n",
       "  </thead>\n",
       "  <tbody>\n",
       "    <tr>\n",
       "      <th>0</th>\n",
       "      <td>alisha solid woman cycling short cotton lycra ...</td>\n",
       "      <td>Clothing</td>\n",
       "    </tr>\n",
       "    <tr>\n",
       "      <th>1</th>\n",
       "      <td>fabhomedecor fabric double sofa bed finish col...</td>\n",
       "      <td>Furniture</td>\n",
       "    </tr>\n",
       "    <tr>\n",
       "      <th>2</th>\n",
       "      <td>belly sandal wedge heel casuals belly price ma...</td>\n",
       "      <td>Footwear</td>\n",
       "    </tr>\n",
       "  </tbody>\n",
       "</table>\n",
       "</div>"
      ],
      "text/plain": [
       "                                         description primary_category\n",
       "0  alisha solid woman cycling short cotton lycra ...         Clothing\n",
       "1  fabhomedecor fabric double sofa bed finish col...        Furniture\n",
       "2  belly sandal wedge heel casuals belly price ma...         Footwear"
      ]
     },
     "execution_count": 91,
     "metadata": {},
     "output_type": "execute_result"
    }
   ],
   "source": [
    "with open('corpus.txt', 'rt', encoding='utf-8') as file:\n",
    "    description = list(file.readlines())\n",
    "    \n",
    "with open('final_categories.txt', 'rt') as file:\n",
    "    primary_category = list(file.readlines())\n",
    "    \n",
    "df = pd.DataFrame()\n",
    "df[\"description\"] = description \n",
    "df[\"primary_category\"] = primary_category\n",
    "df[\"description\"] = df[\"description\"].str.replace('\\n', '') \n",
    "df[\"primary_category\"] = df[\"primary_category\"].str.replace('\\n', '')\n",
    "\n",
    "df.head(3)"
   ]
  },
  {
   "cell_type": "code",
   "execution_count": 92,
   "metadata": {},
   "outputs": [
    {
     "name": "stdout",
     "output_type": "stream",
     "text": [
      "(15732,)\n",
      "(15732,)\n",
      "(3934,)\n",
      "(3934,)\n"
     ]
    }
   ],
   "source": [
    "X = np.array(df[\"description\"])\n",
    "y = np.array(df[\"primary_category\"])\n",
    "\n",
    "X_train, X_test, y_train, y_test = train_test_split(X, y, test_size=0.20, random_state=73)\n",
    "\n",
    "print(X_train.shape)\n",
    "print(y_train.shape)\n",
    "print(X_test.shape)\n",
    "print(y_test.shape)"
   ]
  },
  {
   "cell_type": "code",
   "execution_count": 93,
   "metadata": {},
   "outputs": [
    {
     "data": {
      "text/plain": [
       "matrix([[0, 0, 0, ..., 0, 0, 0],\n",
       "        [0, 0, 0, ..., 0, 0, 0],\n",
       "        [0, 0, 0, ..., 0, 0, 0],\n",
       "        ...,\n",
       "        [0, 0, 0, ..., 0, 0, 0],\n",
       "        [0, 0, 0, ..., 0, 0, 0],\n",
       "        [0, 0, 0, ..., 0, 0, 0]], dtype=int64)"
      ]
     },
     "execution_count": 93,
     "metadata": {},
     "output_type": "execute_result"
    }
   ],
   "source": [
    "count_vec = CountVectorizer()\n",
    "X_train_features = count_vec.fit_transform(X_train)\n",
    "\n",
    "X_train_features.todense()"
   ]
  },
  {
   "cell_type": "code",
   "execution_count": 94,
   "metadata": {},
   "outputs": [
    {
     "data": {
      "text/plain": [
       "<3934x13595 sparse matrix of type '<class 'numpy.int64'>'\n",
       "\twith 82664 stored elements in Compressed Sparse Row format>"
      ]
     },
     "execution_count": 94,
     "metadata": {},
     "output_type": "execute_result"
    }
   ],
   "source": [
    "X_test_features = count_vec.transform(X_test)\n",
    "\n",
    "X_test_features"
   ]
  },
  {
   "cell_type": "code",
   "execution_count": 95,
   "metadata": {},
   "outputs": [
    {
     "data": {
      "text/plain": [
       "MultinomialNB()"
      ]
     },
     "execution_count": 95,
     "metadata": {},
     "output_type": "execute_result"
    }
   ],
   "source": [
    "# Multinomial Naive Bayes Classifier with Count Vectorizer\n",
    "\n",
    "clf = MultinomialNB()\n",
    "clf.fit(X_train_features, y_train)"
   ]
  },
  {
   "cell_type": "code",
   "execution_count": 96,
   "metadata": {},
   "outputs": [
    {
     "data": {
      "text/plain": [
       "array(['Jewellery', 'Computers', 'Beauty and Personal Care', ...,\n",
       "       'Tools & Hardware', 'Jewellery', 'Home Decor & Festive Needs'],\n",
       "      dtype='<U33')"
      ]
     },
     "execution_count": 96,
     "metadata": {},
     "output_type": "execute_result"
    }
   ],
   "source": [
    "y_pred = clf.predict(X_test_features)\n",
    "\n",
    "y_pred"
   ]
  },
  {
   "cell_type": "code",
   "execution_count": 97,
   "metadata": {
    "collapsed": true
   },
   "outputs": [
    {
     "name": "stdout",
     "output_type": "stream",
     "text": [
      "                                   precision    recall  f1-score   support\n",
      "\n",
      "                       Automotive       0.90      0.97      0.93       193\n",
      "                        Baby Care       0.96      0.74      0.84       121\n",
      "            Bags, Wallets & Belts       0.89      0.95      0.92        43\n",
      "         Beauty and Personal Care       0.93      0.95      0.94       135\n",
      "            Cameras & Accessories       1.00      0.73      0.85        15\n",
      "                         Clothing       0.97      1.00      0.98      1218\n",
      "                        Computers       0.80      0.87      0.83       126\n",
      "                          Eyewear       1.00      1.00      1.00         1\n",
      "                         Footwear       1.00      0.97      0.98       259\n",
      "                        Furniture       0.97      1.00      0.99        39\n",
      "                           Gaming       0.55      0.60      0.57        10\n",
      "Health & Personal Care Appliances       1.00      0.57      0.73         7\n",
      "                   Home & Kitchen       1.00      0.25      0.40         4\n",
      "       Home Decor & Festive Needs       0.92      0.98      0.95       185\n",
      "               Home Entertainment       1.00      0.33      0.50         3\n",
      "                  Home Furnishing       0.90      1.00      0.95       130\n",
      "                 Home Improvement       1.00      0.81      0.90        16\n",
      "                        Jewellery       0.99      1.00      1.00       669\n",
      "                 Kitchen & Dining       0.98      0.89      0.93       133\n",
      "            Mobiles & Accessories       0.96      0.94      0.95       234\n",
      "                Pens & Stationery       0.98      0.68      0.80        80\n",
      "                     Pet Supplies       1.00      0.78      0.88         9\n",
      "                 Sports & Fitness       1.00      0.74      0.85        43\n",
      "                       Sunglasses       1.00      1.00      1.00        10\n",
      "                 Tools & Hardware       0.99      0.95      0.97        79\n",
      "           Toys & School Supplies       0.75      0.90      0.82        61\n",
      "                          Watches       0.98      1.00      0.99       107\n",
      "                           eBooks       1.00      0.25      0.40         4\n",
      "\n",
      "                         accuracy                           0.95      3934\n",
      "                        macro avg       0.94      0.82      0.85      3934\n",
      "                     weighted avg       0.96      0.95      0.95      3934\n",
      "\n",
      "[[ 187    0    0    0    0    2    1    0    0    0    0    0    0    1\n",
      "     0    2    0    0    0    0    0    0    0    0    0    0    0    0]\n",
      " [   1   90    0    3    0   14    0    0    0    0    0    0    0    5\n",
      "     0    7    0    0    0    0    0    0    0    0    0    1    0    0]\n",
      " [   0    0   41    0    0    2    0    0    0    0    0    0    0    0\n",
      "     0    0    0    0    0    0    0    0    0    0    0    0    0    0]\n",
      " [   2    1    0  128    0    2    1    0    0    0    0    0    0    0\n",
      "     0    0    0    1    0    0    0    0    0    0    0    0    0    0]\n",
      " [   1    0    0    0   11    0    3    0    0    0    0    0    0    0\n",
      "     0    0    0    0    0    0    0    0    0    0    0    0    0    0]\n",
      " [   0    3    1    0    0 1213    0    0    0    0    0    0    0    0\n",
      "     0    0    0    0    0    0    0    0    0    0    0    0    1    0]\n",
      " [   0    0    0    0    0    7  109    0    0    0    2    0    0    0\n",
      "     0    0    0    1    0    7    0    0    0    0    0    0    0    0]\n",
      " [   0    0    0    0    0    0    0    1    0    0    0    0    0    0\n",
      "     0    0    0    0    0    0    0    0    0    0    0    0    0    0]\n",
      " [   0    0    0    1    0    6    0    0  252    0    0    0    0    0\n",
      "     0    0    0    0    0    0    0    0    0    0    0    0    0    0]\n",
      " [   0    0    0    0    0    0    0    0    0   39    0    0    0    0\n",
      "     0    0    0    0    0    0    0    0    0    0    0    0    0    0]\n",
      " [   0    0    0    0    0    0    3    0    0    0    6    0    0    0\n",
      "     0    0    0    0    0    1    0    0    0    0    0    0    0    0]\n",
      " [   1    0    0    0    0    0    1    0    0    0    0    4    0    0\n",
      "     0    0    0    0    0    0    0    0    0    0    0    0    1    0]\n",
      " [   1    0    0    0    0    0    2    0    0    0    0    0    1    0\n",
      "     0    0    0    0    0    0    0    0    0    0    0    0    0    0]\n",
      " [   0    0    0    1    0    0    1    0    0    0    0    0    0  182\n",
      "     0    0    0    1    0    0    0    0    0    0    0    0    0    0]\n",
      " [   0    0    0    0    0    0    1    0    0    0    1    0    0    0\n",
      "     1    0    0    0    0    0    0    0    0    0    0    0    0    0]\n",
      " [   0    0    0    0    0    0    0    0    0    0    0    0    0    0\n",
      "     0  130    0    0    0    0    0    0    0    0    0    0    0    0]\n",
      " [   1    0    0    0    0    0    0    0    0    0    0    0    0    0\n",
      "     0    1   13    0    0    0    0    0    0    0    1    0    0    0]\n",
      " [   0    0    0    0    0    0    0    0    0    0    0    0    0    0\n",
      "     0    0    0  669    0    0    0    0    0    0    0    0    0    0]\n",
      " [   6    0    0    0    0    0    2    0    0    0    0    0    0    3\n",
      "     0    3    0    0  118    0    1    0    0    0    0    0    0    0]\n",
      " [   2    0    0    0    0    0    8    0    0    0    2    0    0    1\n",
      "     0    1    0    0    0  220    0    0    0    0    0    0    0    0]\n",
      " [   1    0    1    2    0    0    2    0    0    0    0    0    0    3\n",
      "     0    0    0    2    0    0   54    0    0    0    0   15    0    0]\n",
      " [   0    0    0    0    0    0    1    0    0    0    0    0    0    0\n",
      "     0    0    0    0    1    0    0    7    0    0    0    0    0    0]\n",
      " [   2    0    2    1    0    2    0    0    1    0    0    0    0    0\n",
      "     0    1    0    1    0    0    0    0   32    0    0    1    0    0]\n",
      " [   0    0    0    0    0    0    0    0    0    0    0    0    0    0\n",
      "     0    0    0    0    0    0    0    0    0   10    0    0    0    0]\n",
      " [   1    0    0    0    0    0    0    0    0    1    0    0    0    2\n",
      "     0    0    0    0    0    0    0    0    0    0   75    0    0    0]\n",
      " [   2    0    1    0    0    0    1    0    0    0    0    0    0    0\n",
      "     0    0    0    0    2    0    0    0    0    0    0   55    0    0]\n",
      " [   0    0    0    0    0    0    0    0    0    0    0    0    0    0\n",
      "     0    0    0    0    0    0    0    0    0    0    0    0  107    0]\n",
      " [   0    0    0    1    0    0    1    0    0    0    0    0    0    0\n",
      "     0    0    0    0    0    0    0    0    0    0    0    1    0    1]]\n"
     ]
    }
   ],
   "source": [
    "print(classification_report(y_test, y_pred))\n",
    "print(confusion_matrix(y_test, y_pred))"
   ]
  },
  {
   "cell_type": "code",
   "execution_count": 98,
   "metadata": {},
   "outputs": [
    {
     "data": {
      "text/plain": [
       "<15732x13595 sparse matrix of type '<class 'numpy.float64'>'\n",
       "\twith 328094 stored elements in Compressed Sparse Row format>"
      ]
     },
     "execution_count": 98,
     "metadata": {},
     "output_type": "execute_result"
    }
   ],
   "source": [
    "tf_idf_vec = TfidfVectorizer(norm = None)\n",
    "\n",
    "X_train_features = tf_idf_vec.fit_transform(X_train)\n",
    "\n",
    "X_train_features"
   ]
  },
  {
   "cell_type": "code",
   "execution_count": 99,
   "metadata": {},
   "outputs": [
    {
     "data": {
      "text/plain": [
       "13595"
      ]
     },
     "execution_count": 99,
     "metadata": {},
     "output_type": "execute_result"
    }
   ],
   "source": [
    "len(tf_idf_vec.get_feature_names())"
   ]
  },
  {
   "cell_type": "code",
   "execution_count": 100,
   "metadata": {},
   "outputs": [
    {
     "data": {
      "text/plain": [
       "<3934x13595 sparse matrix of type '<class 'numpy.float64'>'\n",
       "\twith 82664 stored elements in Compressed Sparse Row format>"
      ]
     },
     "execution_count": 100,
     "metadata": {},
     "output_type": "execute_result"
    }
   ],
   "source": [
    "X_test_features = tf_idf_vec.transform(X_test)\n",
    "\n",
    "X_test_features"
   ]
  },
  {
   "cell_type": "code",
   "execution_count": 101,
   "metadata": {},
   "outputs": [
    {
     "data": {
      "text/plain": [
       "MultinomialNB(alpha=3)"
      ]
     },
     "execution_count": 101,
     "metadata": {},
     "output_type": "execute_result"
    }
   ],
   "source": [
    "# Multinomial Naive Bayes Algorithm with Tfidf Bectorizer\n",
    "\n",
    "clf = MultinomialNB(alpha = 3)\n",
    "clf.fit(X_train_features, y_train)"
   ]
  },
  {
   "cell_type": "code",
   "execution_count": 102,
   "metadata": {},
   "outputs": [
    {
     "data": {
      "text/plain": [
       "array(['Jewellery', 'Computers', 'Beauty and Personal Care', ...,\n",
       "       'Tools & Hardware', 'Jewellery', 'Home Decor & Festive Needs'],\n",
       "      dtype='<U33')"
      ]
     },
     "execution_count": 102,
     "metadata": {},
     "output_type": "execute_result"
    }
   ],
   "source": [
    "y_pred = clf.predict(X_test_features)\n",
    "\n",
    "y_pred"
   ]
  },
  {
   "cell_type": "code",
   "execution_count": 103,
   "metadata": {
    "collapsed": true
   },
   "outputs": [
    {
     "name": "stdout",
     "output_type": "stream",
     "text": [
      "                                   precision    recall  f1-score   support\n",
      "\n",
      "                       Automotive       0.95      0.96      0.96       193\n",
      "                        Baby Care       0.93      0.83      0.88       121\n",
      "            Bags, Wallets & Belts       0.86      0.98      0.91        43\n",
      "         Beauty and Personal Care       0.96      0.94      0.95       135\n",
      "            Cameras & Accessories       0.92      0.80      0.86        15\n",
      "                         Clothing       0.98      0.99      0.99      1218\n",
      "                        Computers       0.85      0.88      0.87       126\n",
      "                          Eyewear       1.00      1.00      1.00         1\n",
      "                         Footwear       1.00      0.97      0.98       259\n",
      "                        Furniture       0.97      1.00      0.99        39\n",
      "                           Gaming       0.47      0.70      0.56        10\n",
      "Health & Personal Care Appliances       1.00      0.86      0.92         7\n",
      "                   Home & Kitchen       0.60      0.75      0.67         4\n",
      "       Home Decor & Festive Needs       0.94      0.98      0.96       185\n",
      "               Home Entertainment       1.00      0.67      0.80         3\n",
      "                  Home Furnishing       0.93      1.00      0.96       130\n",
      "                 Home Improvement       0.83      0.94      0.88        16\n",
      "                        Jewellery       1.00      1.00      1.00       669\n",
      "                 Kitchen & Dining       0.98      0.91      0.95       133\n",
      "            Mobiles & Accessories       0.96      0.92      0.94       234\n",
      "                Pens & Stationery       0.94      0.76      0.84        80\n",
      "                     Pet Supplies       1.00      0.78      0.88         9\n",
      "                 Sports & Fitness       0.95      0.88      0.92        43\n",
      "                       Sunglasses       1.00      1.00      1.00        10\n",
      "                 Tools & Hardware       0.96      0.96      0.96        79\n",
      "           Toys & School Supplies       0.79      0.93      0.86        61\n",
      "                          Watches       0.98      1.00      0.99       107\n",
      "                           eBooks       0.75      0.75      0.75         4\n",
      "\n",
      "                         accuracy                           0.96      3934\n",
      "                        macro avg       0.91      0.90      0.90      3934\n",
      "                     weighted avg       0.96      0.96      0.96      3934\n",
      "\n",
      "[[ 186    0    0    0    0    0    1    0    0    0    0    0    0    1\n",
      "     0    3    0    0    0    2    0    0    0    0    0    0    0    0]\n",
      " [   0  101    0    3    0    6    0    0    0    0    0    0    0    5\n",
      "     0    4    0    0    0    0    0    0    1    0    0    1    0    0]\n",
      " [   0    0   42    0    0    1    0    0    0    0    0    0    0    0\n",
      "     0    0    0    0    0    0    0    0    0    0    0    0    0    0]\n",
      " [   1    0    1  127    0    2    1    0    0    1    0    0    0    0\n",
      "     0    0    0    0    1    0    1    0    0    0    0    0    0    0]\n",
      " [   1    0    0    0   12    0    2    0    0    0    0    0    0    0\n",
      "     0    0    0    0    0    0    0    0    0    0    0    0    0    0]\n",
      " [   1    7    0    0    0 1208    0    0    0    0    0    0    0    0\n",
      "     0    0    0    0    0    0    0    0    1    0    0    0    1    0]\n",
      " [   0    0    0    0    0    7  111    0    0    0    2    0    0    0\n",
      "     0    0    0    0    0    6    0    0    0    0    0    0    0    0]\n",
      " [   0    0    0    0    0    0    0    1    0    0    0    0    0    0\n",
      "     0    0    0    0    0    0    0    0    0    0    0    0    0    0]\n",
      " [   0    1    0    1    0    6    0    0  251    0    0    0    0    0\n",
      "     0    0    0    0    0    0    0    0    0    0    0    0    0    0]\n",
      " [   0    0    0    0    0    0    0    0    0   39    0    0    0    0\n",
      "     0    0    0    0    0    0    0    0    0    0    0    0    0    0]\n",
      " [   0    0    0    0    0    0    2    0    0    0    7    0    0    0\n",
      "     0    0    0    0    0    1    0    0    0    0    0    0    0    0]\n",
      " [   1    0    0    0    0    0    0    0    0    0    0    6    0    0\n",
      "     0    0    0    0    0    0    0    0    0    0    0    0    0    0]\n",
      " [   0    0    0    0    0    0    1    0    0    0    0    0    3    0\n",
      "     0    0    0    0    0    0    0    0    0    0    0    0    0    0]\n",
      " [   0    0    0    1    0    0    1    0    0    0    0    0    0  182\n",
      "     0    0    0    0    0    0    0    0    0    0    1    0    0    0]\n",
      " [   0    0    0    0    0    0    0    0    0    0    1    0    0    0\n",
      "     2    0    0    0    0    0    0    0    0    0    0    0    0    0]\n",
      " [   0    0    0    0    0    0    0    0    0    0    0    0    0    0\n",
      "     0  130    0    0    0    0    0    0    0    0    0    0    0    0]\n",
      " [   0    0    0    0    0    0    0    0    0    0    0    0    0    0\n",
      "     0    0   15    0    0    0    0    0    0    0    1    0    0    0]\n",
      " [   0    0    0    0    0    0    0    0    0    0    0    0    0    0\n",
      "     0    0    0  669    0    0    0    0    0    0    0    0    0    0]\n",
      " [   1    0    2    0    0    0    0    0    0    0    0    0    2    2\n",
      "     0    3    0    0  121    0    2    0    0    0    0    0    0    0]\n",
      " [   2    0    0    0    1    0    8    0    0    0    5    0    0    1\n",
      "     0    0    0    0    0  216    0    0    0    0    0    0    0    1]\n",
      " [   0    0    1    0    0    0    2    0    0    0    0    0    0    1\n",
      "     0    0    0    1    0    0   61    0    0    0    1   13    0    0]\n",
      " [   0    0    0    0    0    0    0    0    0    0    0    0    0    0\n",
      "     0    0    2    0    0    0    0    7    0    0    0    0    0    0]\n",
      " [   2    0    1    0    0    0    0    0    0    0    0    0    0    0\n",
      "     0    0    0    0    0    0    0    0   38    0    0    1    1    0]\n",
      " [   0    0    0    0    0    0    0    0    0    0    0    0    0    0\n",
      "     0    0    0    0    0    0    0    0    0   10    0    0    0    0]\n",
      " [   0    0    0    0    0    0    0    0    0    0    0    0    0    2\n",
      "     0    0    1    0    0    0    0    0    0    0   76    0    0    0]\n",
      " [   0    0    1    0    0    0    1    0    0    0    0    0    0    0\n",
      "     0    0    0    0    1    0    1    0    0    0    0   57    0    0]\n",
      " [   0    0    0    0    0    0    0    0    0    0    0    0    0    0\n",
      "     0    0    0    0    0    0    0    0    0    0    0    0  107    0]\n",
      " [   0    0    1    0    0    0    0    0    0    0    0    0    0    0\n",
      "     0    0    0    0    0    0    0    0    0    0    0    0    0    3]]\n"
     ]
    }
   ],
   "source": [
    "print(classification_report(y_test, y_pred))\n",
    "print(confusion_matrix(y_test, y_pred))"
   ]
  },
  {
   "cell_type": "code",
   "execution_count": 104,
   "metadata": {
    "collapsed": true
   },
   "outputs": [
    {
     "data": {
      "text/plain": [
       "array(['Beauty and Personal Care', 'Pens & Stationery', 'Clothing', ...,\n",
       "       'Home Decor & Festive Needs', 'Watches', 'Jewellery'], dtype='<U33')"
      ]
     },
     "execution_count": 104,
     "metadata": {},
     "output_type": "execute_result"
    }
   ],
   "source": [
    "y_train_pred = clf.predict(X_train_features)\n",
    "\n",
    "y_train_pred"
   ]
  },
  {
   "cell_type": "code",
   "execution_count": 105,
   "metadata": {
    "collapsed": true
   },
   "outputs": [
    {
     "name": "stdout",
     "output_type": "stream",
     "text": [
      "                                   precision    recall  f1-score   support\n",
      "\n",
      "                       Automotive       1.00      0.99      0.99       819\n",
      "                        Baby Care       0.89      0.90      0.89       362\n",
      "            Bags, Wallets & Belts       0.94      0.99      0.96       222\n",
      "         Beauty and Personal Care       1.00      0.98      0.99       575\n",
      "            Cameras & Accessories       0.98      0.97      0.98        67\n",
      "                         Clothing       0.99      0.99      0.99      4979\n",
      "                        Computers       0.97      0.96      0.97       452\n",
      "                          Eyewear       1.00      1.00      1.00         9\n",
      "                         Footwear       1.00      1.00      1.00       968\n",
      "                        Furniture       0.96      1.00      0.98       141\n",
      "                           Gaming       0.77      0.96      0.86        25\n",
      "Health & Personal Care Appliances       1.00      1.00      1.00        36\n",
      "                   Home & Kitchen       1.00      1.00      1.00        20\n",
      "       Home Decor & Festive Needs       0.99      0.99      0.99       744\n",
      "               Home Entertainment       1.00      0.88      0.93        16\n",
      "                  Home Furnishing       0.96      1.00      0.98       569\n",
      "                 Home Improvement       1.00      1.00      1.00        65\n",
      "                        Jewellery       1.00      1.00      1.00      2862\n",
      "                 Kitchen & Dining       1.00      0.98      0.99       514\n",
      "            Mobiles & Accessories       0.98      0.98      0.98       865\n",
      "                Pens & Stationery       0.98      0.82      0.89       233\n",
      "                     Pet Supplies       0.95      1.00      0.98        21\n",
      "                 Sports & Fitness       0.97      0.95      0.96       123\n",
      "                       Sunglasses       1.00      1.00      1.00        30\n",
      "                 Tools & Hardware       0.99      1.00      1.00       312\n",
      "           Toys & School Supplies       0.87      0.97      0.92       269\n",
      "                          Watches       1.00      1.00      1.00       423\n",
      "                           eBooks       1.00      1.00      1.00        11\n",
      "\n",
      "                         accuracy                           0.99     15732\n",
      "                        macro avg       0.97      0.98      0.97     15732\n",
      "                     weighted avg       0.99      0.99      0.99     15732\n",
      "\n",
      "[[ 807    0    0    0    0    0    0    0    0    0    1    0    0    0\n",
      "     0    0    0    0    0    9    1    0    0    0    0    1    0    0]\n",
      " [   0  325    0    1    0   13    0    0    0    0    0    0    0    6\n",
      "     0   15    0    0    2    0    0    0    0    0    0    0    0    0]\n",
      " [   0    0  220    1    0    1    0    0    0    0    0    0    0    0\n",
      "     0    0    0    0    0    0    0    0    0    0    0    0    0    0]\n",
      " [   0    0    0  565    0    1    0    0    0    1    0    0    0    2\n",
      "     0    1    0    5    0    0    0    0    0    0    0    0    0    0]\n",
      " [   0    0    0    0   65    0    2    0    0    0    0    0    0    0\n",
      "     0    0    0    0    0    0    0    0    0    0    0    0    0    0]\n",
      " [   0   39    1    0    0 4932    0    0    1    0    0    0    0    0\n",
      "     0    0    0    4    0    0    0    1    1    0    0    0    0    0]\n",
      " [   0    0    1    0    0   10  436    0    0    0    0    0    0    0\n",
      "     0    0    0    0    0    4    1    0    0    0    0    0    0    0]\n",
      " [   0    0    0    0    0    0    0    9    0    0    0    0    0    0\n",
      "     0    0    0    0    0    0    0    0    0    0    0    0    0    0]\n",
      " [   0    0    0    0    0    0    0    0  967    0    0    0    0    0\n",
      "     0    0    0    0    0    0    0    0    1    0    0    0    0    0]\n",
      " [   0    0    0    0    0    0    0    0    0  141    0    0    0    0\n",
      "     0    0    0    0    0    0    0    0    0    0    0    0    0    0]\n",
      " [   0    0    0    0    0    0    1    0    0    0   24    0    0    0\n",
      "     0    0    0    0    0    0    0    0    0    0    0    0    0    0]\n",
      " [   0    0    0    0    0    0    0    0    0    0    0   36    0    0\n",
      "     0    0    0    0    0    0    0    0    0    0    0    0    0    0]\n",
      " [   0    0    0    0    0    0    0    0    0    0    0    0   20    0\n",
      "     0    0    0    0    0    0    0    0    0    0    0    0    0    0]\n",
      " [   0    2    0    0    0    0    2    0    0    1    0    0    0  737\n",
      "     0    0    0    0    0    0    0    0    0    0    2    0    0    0]\n",
      " [   0    0    0    0    0    0    0    0    0    0    2    0    0    0\n",
      "    14    0    0    0    0    0    0    0    0    0    0    0    0    0]\n",
      " [   0    0    0    0    0    0    0    0    0    0    0    0    0    0\n",
      "     0  569    0    0    0    0    0    0    0    0    0    0    0    0]\n",
      " [   0    0    0    0    0    0    0    0    0    0    0    0    0    0\n",
      "     0    0   65    0    0    0    0    0    0    0    0    0    0    0]\n",
      " [   0    0    1    0    0    0    0    0    0    0    0    0    0    2\n",
      "     0    0    0 2858    0    0    0    0    1    0    0    0    0    0]\n",
      " [   0    0    0    0    0    0    0    0    0    4    0    0    0    0\n",
      "     0    5    0    0  503    0    1    0    1    0    0    0    0    0]\n",
      " [   2    0    0    0    1    0    8    0    0    0    4    0    0    0\n",
      "     0    0    0    0    0  849    0    0    0    0    0    1    0    0]\n",
      " [   0    0    2    0    0    0    2    0    0    0    0    0    0    1\n",
      "     0    0    0    0    0    0  191    0    0    0    0   37    0    0]\n",
      " [   0    0    0    0    0    0    0    0    0    0    0    0    0    0\n",
      "     0    0    0    0    0    0    0   21    0    0    0    0    0    0]\n",
      " [   1    0    5    0    0    0    0    0    0    0    0    0    0    0\n",
      "     0    0    0    0    0    0    0    0  117    0    0    0    0    0]\n",
      " [   0    0    0    0    0    0    0    0    0    0    0    0    0    0\n",
      "     0    0    0    0    0    0    0    0    0   30    0    0    0    0]\n",
      " [   0    0    0    0    0    0    0    0    0    0    0    0    0    0\n",
      "     0    0    0    0    0    0    0    0    0    0  312    0    0    0]\n",
      " [   0    0    5    0    0    0    0    0    0    0    0    0    0    0\n",
      "     0    0    0    2    0    0    1    0    0    0    0  261    0    0]\n",
      " [   0    0    0    0    0    0    0    0    0    0    0    0    0    0\n",
      "     0    0    0    0    0    0    0    0    0    0    0    0  423    0]\n",
      " [   0    0    0    0    0    0    0    0    0    0    0    0    0    0\n",
      "     0    0    0    0    0    0    0    0    0    0    0    0    0   11]]\n"
     ]
    }
   ],
   "source": [
    "print(classification_report(y_train, y_train_pred))\n",
    "print(confusion_matrix(y_train, y_train_pred))"
   ]
  },
  {
   "cell_type": "code",
   "execution_count": 117,
   "metadata": {},
   "outputs": [
    {
     "data": {
      "text/plain": [
       "Pipeline(steps=[('vect', CountVectorizer()), ('tfidf', TfidfTransformer()),\n",
       "                ('clf', GradientBoostingClassifier())])"
      ]
     },
     "execution_count": 117,
     "metadata": {},
     "output_type": "execute_result"
    }
   ],
   "source": [
    "# GradientBoostingClassifier Algorithm \n",
    "\n",
    "text_clf = Pipeline([('vect', CountVectorizer()),\n",
    "                     ('tfidf', TfidfTransformer()),\n",
    "                     ('clf', ensemble.GradientBoostingClassifier(n_estimators=100)),\n",
    "                     ])\n",
    "\n",
    "text_clf.fit(X_train, y_train)"
   ]
  },
  {
   "cell_type": "code",
   "execution_count": 118,
   "metadata": {},
   "outputs": [
    {
     "data": {
      "text/plain": [
       "array(['Jewellery', 'Computers', 'Beauty and Personal Care', ...,\n",
       "       'Tools & Hardware', 'Jewellery', 'Home Decor & Festive Needs'],\n",
       "      dtype=object)"
      ]
     },
     "execution_count": 118,
     "metadata": {},
     "output_type": "execute_result"
    }
   ],
   "source": [
    "y_pred = text_clf.predict(X_test)\n",
    "\n",
    "y_pred"
   ]
  },
  {
   "cell_type": "code",
   "execution_count": 119,
   "metadata": {
    "collapsed": true
   },
   "outputs": [
    {
     "name": "stdout",
     "output_type": "stream",
     "text": [
      "                                   precision    recall  f1-score   support\n",
      "\n",
      "                       Automotive       0.97      0.98      0.98       193\n",
      "                        Baby Care       0.95      0.87      0.91       121\n",
      "            Bags, Wallets & Belts       0.98      0.93      0.95        43\n",
      "         Beauty and Personal Care       0.95      0.93      0.94       135\n",
      "            Cameras & Accessories       0.93      0.93      0.93        15\n",
      "                         Clothing       0.95      1.00      0.98      1218\n",
      "                        Computers       0.97      0.83      0.89       126\n",
      "                          Eyewear       0.33      1.00      0.50         1\n",
      "                         Footwear       1.00      0.98      0.99       259\n",
      "                        Furniture       0.95      0.95      0.95        39\n",
      "                           Gaming       0.67      0.80      0.73        10\n",
      "Health & Personal Care Appliances       1.00      0.71      0.83         7\n",
      "                   Home & Kitchen       0.20      0.25      0.22         4\n",
      "       Home Decor & Festive Needs       0.97      0.96      0.96       185\n",
      "               Home Entertainment       0.29      0.67      0.40         3\n",
      "                  Home Furnishing       0.98      0.97      0.98       130\n",
      "                 Home Improvement       0.74      0.88      0.80        16\n",
      "                        Jewellery       0.98      0.99      0.99       669\n",
      "                 Kitchen & Dining       0.94      0.95      0.94       133\n",
      "            Mobiles & Accessories       0.96      0.97      0.96       234\n",
      "                Pens & Stationery       0.90      0.68      0.77        80\n",
      "                     Pet Supplies       0.90      1.00      0.95         9\n",
      "                 Sports & Fitness       0.96      0.63      0.76        43\n",
      "                       Sunglasses       0.90      0.90      0.90        10\n",
      "                 Tools & Hardware       0.99      0.95      0.97        79\n",
      "           Toys & School Supplies       0.74      0.84      0.78        61\n",
      "                          Watches       1.00      1.00      1.00       107\n",
      "                           eBooks       0.00      0.00      0.00         4\n",
      "\n",
      "                         accuracy                           0.96      3934\n",
      "                        macro avg       0.83      0.84      0.82      3934\n",
      "                     weighted avg       0.96      0.96      0.96      3934\n",
      "\n",
      "[[ 190    0    0    1    0    2    0    0    0    0    0    0    0    0\n",
      "     0    0    0    0    0    0    0    0    0    0    0    0    0    0]\n",
      " [   0  105    0    3    0    7    0    1    0    0    0    0    0    1\n",
      "     0    1    0    0    1    0    0    1    0    0    1    0    0    0]\n",
      " [   0    0   40    0    0    1    0    0    0    0    0    0    0    0\n",
      "     0    0    0    0    0    1    1    0    0    0    0    0    0    0]\n",
      " [   0    0    0  125    0    4    0    0    0    1    0    0    0    0\n",
      "     0    0    1    1    2    0    0    0    0    0    0    1    0    0]\n",
      " [   0    0    0    0   14    1    0    0    0    0    0    0    0    0\n",
      "     0    0    0    0    0    0    0    0    0    0    0    0    0    0]\n",
      " [   0    2    0    1    0 1214    0    0    0    0    0    0    0    0\n",
      "     0    0    0    0    0    0    0    0    1    0    0    0    0    0]\n",
      " [   0    1    1    0    0   11  104    0    0    0    2    0    3    0\n",
      "     0    0    1    0    0    3    0    0    0    0    0    0    0    0]\n",
      " [   0    0    0    0    0    0    0    1    0    0    0    0    0    0\n",
      "     0    0    0    0    0    0    0    0    0    0    0    0    0    0]\n",
      " [   0    0    0    0    0    4    0    0  255    0    0    0    0    0\n",
      "     0    0    0    0    0    0    0    0    0    0    0    0    0    0]\n",
      " [   0    0    0    0    0    0    0    0    0   37    0    0    0    1\n",
      "     0    0    0    0    1    0    0    0    0    0    0    0    0    0]\n",
      " [   0    0    0    0    0    0    0    0    0    0    8    0    0    0\n",
      "     1    0    0    1    0    0    0    0    0    0    0    0    0    0]\n",
      " [   1    0    0    0    0    1    0    0    0    0    0    5    0    0\n",
      "     0    0    0    0    0    0    0    0    0    0    0    0    0    0]\n",
      " [   0    0    0    0    0    1    0    0    0    0    0    0    1    0\n",
      "     0    0    0    1    0    1    0    0    0    0    0    0    0    0]\n",
      " [   1    1    0    0    0    2    0    0    0    0    0    0    0  177\n",
      "     0    0    0    3    1    0    0    0    0    0    0    0    0    0]\n",
      " [   0    0    0    0    0    0    0    0    0    0    1    0    0    0\n",
      "     2    0    0    0    0    0    0    0    0    0    0    0    0    0]\n",
      " [   0    0    0    0    0    1    0    0    0    1    0    0    0    0\n",
      "     0  126    0    1    0    0    1    0    0    0    0    0    0    0]\n",
      " [   0    0    0    0    0    1    0    0    0    0    0    0    1    0\n",
      "     0    0   14    0    0    0    0    0    0    0    0    0    0    0]\n",
      " [   0    1    0    1    1    0    0    0    0    0    0    0    0    0\n",
      "     0    0    2  664    0    0    0    0    0    0    0    0    0    0]\n",
      " [   0    0    0    0    0    3    0    0    0    0    0    0    0    1\n",
      "     0    0    0    1  126    1    0    0    0    0    0    1    0    0]\n",
      " [   0    0    0    0    0    1    2    0    0    0    1    0    0    0\n",
      "     1    0    0    0    0  227    0    0    0    0    0    1    0    1]\n",
      " [   0    0    0    0    0    1    0    0    0    0    0    0    0    1\n",
      "     1    0    0    4    1    3   54    0    0    0    0   15    0    0]\n",
      " [   0    0    0    0    0    0    0    0    0    0    0    0    0    0\n",
      "     0    0    0    0    0    0    0    9    0    0    0    0    0    0]\n",
      " [   0    0    0    0    0   13    0    0    0    0    0    0    0    0\n",
      "     0    0    1    0    0    0    1    0   27    1    0    0    0    0]\n",
      " [   0    0    0    0    0    0    0    1    0    0    0    0    0    0\n",
      "     0    0    0    0    0    0    0    0    0    9    0    0    0    0]\n",
      " [   1    0    0    0    0    0    0    0    0    0    0    0    0    1\n",
      "     0    1    0    0    1    0    0    0    0    0   75    0    0    0]\n",
      " [   2    0    0    0    0    1    1    0    0    0    0    0    0    0\n",
      "     2    0    0    0    1    0    3    0    0    0    0   51    0    0]\n",
      " [   0    0    0    0    0    0    0    0    0    0    0    0    0    0\n",
      "     0    0    0    0    0    0    0    0    0    0    0    0  107    0]\n",
      " [   0    0    0    0    0    3    0    0    0    0    0    0    0    0\n",
      "     0    0    0    0    0    1    0    0    0    0    0    0    0    0]]\n"
     ]
    }
   ],
   "source": [
    "print(classification_report(y_test, y_pred))\n",
    "print(confusion_matrix(y_test, y_pred))"
   ]
  },
  {
   "cell_type": "code",
   "execution_count": 132,
   "metadata": {},
   "outputs": [
    {
     "data": {
      "text/plain": [
       "Pipeline(steps=[('vect', CountVectorizer()), ('tfidf', TfidfTransformer()),\n",
       "                ('clf', KNeighborsClassifier())])"
      ]
     },
     "execution_count": 132,
     "metadata": {},
     "output_type": "execute_result"
    }
   ],
   "source": [
    "text_clf = Pipeline([('vect', CountVectorizer()),\n",
    "                     ('tfidf', TfidfTransformer()),\n",
    "                     ('clf', KNeighborsClassifier()),\n",
    "                     ])\n",
    "\n",
    "text_clf.fit(X_train, y_train)"
   ]
  },
  {
   "cell_type": "code",
   "execution_count": 133,
   "metadata": {},
   "outputs": [
    {
     "data": {
      "text/plain": [
       "array(['Jewellery', 'Computers', 'Computers', ..., 'Tools & Hardware',\n",
       "       'Jewellery', 'Home Decor & Festive Needs'], dtype=object)"
      ]
     },
     "execution_count": 133,
     "metadata": {},
     "output_type": "execute_result"
    }
   ],
   "source": [
    "y_pred = text_clf.predict(X_test)\n",
    "\n",
    "y_pred"
   ]
  },
  {
   "cell_type": "code",
   "execution_count": 134,
   "metadata": {
    "collapsed": true
   },
   "outputs": [
    {
     "name": "stdout",
     "output_type": "stream",
     "text": [
      "                                   precision    recall  f1-score   support\n",
      "\n",
      "                       Automotive       1.00      0.85      0.92       193\n",
      "                        Baby Care       0.94      0.72      0.81       121\n",
      "            Bags, Wallets & Belts       0.94      0.72      0.82        43\n",
      "         Beauty and Personal Care       1.00      0.61      0.76       135\n",
      "            Cameras & Accessories       0.93      0.87      0.90        15\n",
      "                         Clothing       0.99      0.79      0.88      1218\n",
      "                        Computers       0.12      0.97      0.21       126\n",
      "                          Eyewear       1.00      1.00      1.00         1\n",
      "                         Footwear       0.99      0.68      0.81       259\n",
      "                        Furniture       1.00      0.90      0.95        39\n",
      "                           Gaming       0.50      0.50      0.50        10\n",
      "Health & Personal Care Appliances       1.00      0.57      0.73         7\n",
      "                   Home & Kitchen       0.00      0.00      0.00         4\n",
      "       Home Decor & Festive Needs       0.96      0.53      0.68       185\n",
      "               Home Entertainment       0.00      0.00      0.00         3\n",
      "                  Home Furnishing       0.95      0.76      0.85       130\n",
      "                 Home Improvement       1.00      0.56      0.72        16\n",
      "                        Jewellery       1.00      0.80      0.89       669\n",
      "                 Kitchen & Dining       0.97      0.68      0.80       133\n",
      "            Mobiles & Accessories       0.98      0.82      0.90       234\n",
      "                Pens & Stationery       0.95      0.49      0.64        80\n",
      "                     Pet Supplies       0.86      0.67      0.75         9\n",
      "                 Sports & Fitness       1.00      0.28      0.44        43\n",
      "                       Sunglasses       1.00      0.80      0.89        10\n",
      "                 Tools & Hardware       1.00      0.82      0.90        79\n",
      "           Toys & School Supplies       0.86      0.49      0.62        61\n",
      "                          Watches       1.00      0.91      0.95       107\n",
      "                           eBooks       0.00      0.00      0.00         4\n",
      "\n",
      "                         accuracy                           0.75      3934\n",
      "                        macro avg       0.82      0.64      0.69      3934\n",
      "                     weighted avg       0.95      0.75      0.82      3934\n",
      "\n",
      "[[165   0   0   0   0   0  28   0   0   0   0   0   0   0   0   0   0   0\n",
      "    0   0   0   0   0   0   0   0   0   0]\n",
      " [  0  87   0   0   0   7  21   0   0   0   0   0   0   3   0   3   0   0\n",
      "    0   0   0   0   0   0   0   0   0   0]\n",
      " [  0   0  31   0   0   0  12   0   0   0   0   0   0   0   0   0   0   0\n",
      "    0   0   0   0   0   0   0   0   0   0]\n",
      " [  0   0   0  83   0   0  51   0   0   0   0   0   0   0   0   0   0   1\n",
      "    0   0   0   0   0   0   0   0   0   0]\n",
      " [  0   0   0   0  13   0   2   0   0   0   0   0   0   0   0   0   0   0\n",
      "    0   0   0   0   0   0   0   0   0   0]\n",
      " [  0   4   0   0   0 963 250   0   1   0   0   0   0   0   0   0   0   0\n",
      "    0   0   0   0   0   0   0   0   0   0]\n",
      " [  0   0   0   0   0   0 122   0   0   0   2   0   0   0   0   0   0   0\n",
      "    0   2   0   0   0   0   0   0   0   0]\n",
      " [  0   0   0   0   0   0   0   1   0   0   0   0   0   0   0   0   0   0\n",
      "    0   0   0   0   0   0   0   0   0   0]\n",
      " [  0   0   0   0   0   3  80   0 176   0   0   0   0   0   0   0   0   0\n",
      "    0   0   0   0   0   0   0   0   0   0]\n",
      " [  0   0   0   0   0   0   3   0   0  35   0   0   0   0   0   0   0   0\n",
      "    1   0   0   0   0   0   0   0   0   0]\n",
      " [  0   0   0   0   0   0   4   0   0   0   5   0   0   0   0   0   0   0\n",
      "    0   1   0   0   0   0   0   0   0   0]\n",
      " [  0   0   0   0   0   0   3   0   0   0   0   4   0   0   0   0   0   0\n",
      "    0   0   0   0   0   0   0   0   0   0]\n",
      " [  0   0   0   0   0   0   4   0   0   0   0   0   0   0   0   0   0   0\n",
      "    0   0   0   0   0   0   0   0   0   0]\n",
      " [  0   1   0   0   0   0  86   0   0   0   0   0   0  98   0   0   0   0\n",
      "    0   0   0   0   0   0   0   0   0   0]\n",
      " [  0   0   0   0   0   0   2   0   0   0   0   0   0   0   0   0   0   0\n",
      "    0   1   0   0   0   0   0   0   0   0]\n",
      " [  0   1   0   0   0   0  30   0   0   0   0   0   0   0   0  99   0   0\n",
      "    0   0   0   0   0   0   0   0   0   0]\n",
      " [  0   0   0   0   0   0   7   0   0   0   0   0   0   0   0   0   9   0\n",
      "    0   0   0   0   0   0   0   0   0   0]\n",
      " [  0   0   1   0   0   0 135   0   0   0   0   0   0   0   0   0   0 533\n",
      "    0   0   0   0   0   0   0   0   0   0]\n",
      " [  0   0   0   0   0   0  40   0   0   0   0   0   0   0   0   2   0   0\n",
      "   90   0   0   1   0   0   0   0   0   0]\n",
      " [  0   0   0   0   1   0  37   0   0   0   3   0   0   0   0   0   0   0\n",
      "    0 193   0   0   0   0   0   0   0   0]\n",
      " [  0   0   0   0   0   0  35   0   0   0   0   0   0   1   0   0   0   0\n",
      "    0   0  39   0   0   0   0   5   0   0]\n",
      " [  0   0   0   0   0   0   3   0   0   0   0   0   0   0   0   0   0   0\n",
      "    0   0   0   6   0   0   0   0   0   0]\n",
      " [  0   0   0   0   0   0  31   0   0   0   0   0   0   0   0   0   0   0\n",
      "    0   0   0   0  12   0   0   0   0   0]\n",
      " [  0   0   0   0   0   0   2   0   0   0   0   0   0   0   0   0   0   0\n",
      "    0   0   0   0   0   8   0   0   0   0]\n",
      " [  0   0   0   0   0   0  14   0   0   0   0   0   0   0   0   0   0   0\n",
      "    0   0   0   0   0   0  65   0   0   0]\n",
      " [  0   0   1   0   0   0  26   0   0   0   0   0   0   0   0   0   0   0\n",
      "    2   0   2   0   0   0   0  30   0   0]\n",
      " [  0   0   0   0   0   0  10   0   0   0   0   0   0   0   0   0   0   0\n",
      "    0   0   0   0   0   0   0   0  97   0]\n",
      " [  0   0   0   0   0   0   3   0   0   0   0   0   0   0   0   0   0   1\n",
      "    0   0   0   0   0   0   0   0   0   0]]\n"
     ]
    },
    {
     "name": "stderr",
     "output_type": "stream",
     "text": [
      "C:\\Users\\kusha\\anaconda3\\lib\\site-packages\\sklearn\\metrics\\_classification.py:1221: UndefinedMetricWarning: Precision and F-score are ill-defined and being set to 0.0 in labels with no predicted samples. Use `zero_division` parameter to control this behavior.\n",
      "  _warn_prf(average, modifier, msg_start, len(result))\n"
     ]
    }
   ],
   "source": [
    "print(classification_report(y_test, y_pred))\n",
    "print(confusion_matrix(y_test, y_pred))"
   ]
  },
  {
   "cell_type": "code",
   "execution_count": 148,
   "metadata": {
    "collapsed": true
   },
   "outputs": [
    {
     "data": {
      "text/plain": [
       "matrix([[0, 0, 0, ..., 0, 0, 0],\n",
       "        [0, 0, 0, ..., 0, 0, 0],\n",
       "        [0, 0, 0, ..., 0, 0, 0],\n",
       "        ...,\n",
       "        [0, 0, 0, ..., 0, 0, 0],\n",
       "        [0, 0, 0, ..., 0, 0, 0],\n",
       "        [0, 0, 0, ..., 0, 0, 0]], dtype=int64)"
      ]
     },
     "execution_count": 148,
     "metadata": {},
     "output_type": "execute_result"
    }
   ],
   "source": [
    "count_vec = CountVectorizer()\n",
    "\n",
    "X_train_features = count_vec.fit_transform(X_train)\n",
    "\n",
    "X_train_features.todense()"
   ]
  },
  {
   "cell_type": "code",
   "execution_count": 149,
   "metadata": {},
   "outputs": [
    {
     "data": {
      "text/plain": [
       "<3934x13595 sparse matrix of type '<class 'numpy.int64'>'\n",
       "\twith 82664 stored elements in Compressed Sparse Row format>"
      ]
     },
     "execution_count": 149,
     "metadata": {},
     "output_type": "execute_result"
    }
   ],
   "source": [
    "X_test_features = count_vec.transform(X_test)\n",
    "\n",
    "X_test_features"
   ]
  },
  {
   "cell_type": "code",
   "execution_count": 150,
   "metadata": {},
   "outputs": [
    {
     "data": {
      "text/plain": [
       "BernoulliNB()"
      ]
     },
     "execution_count": 150,
     "metadata": {},
     "output_type": "execute_result"
    }
   ],
   "source": [
    "clf = BernoulliNB()\n",
    "clf.fit(X_train_features, y_train)"
   ]
  },
  {
   "cell_type": "code",
   "execution_count": 151,
   "metadata": {},
   "outputs": [
    {
     "data": {
      "text/plain": [
       "array(['Jewellery', 'Computers', 'Beauty and Personal Care', ...,\n",
       "       'Jewellery', 'Jewellery', 'Home Decor & Festive Needs'],\n",
       "      dtype='<U33')"
      ]
     },
     "execution_count": 151,
     "metadata": {},
     "output_type": "execute_result"
    }
   ],
   "source": [
    "y_pred = text_clf.predict(X_test)\n",
    "\n",
    "y_pred"
   ]
  },
  {
   "cell_type": "code",
   "execution_count": 152,
   "metadata": {
    "collapsed": true
   },
   "outputs": [
    {
     "name": "stdout",
     "output_type": "stream",
     "text": [
      "                                   precision    recall  f1-score   support\n",
      "\n",
      "                       Automotive       0.90      0.94      0.92       193\n",
      "                        Baby Care       0.67      0.12      0.20       121\n",
      "            Bags, Wallets & Belts       0.86      0.42      0.56        43\n",
      "         Beauty and Personal Care       0.87      0.34      0.49       135\n",
      "            Cameras & Accessories       0.00      0.00      0.00        15\n",
      "                         Clothing       0.94      0.99      0.96      1218\n",
      "                        Computers       0.70      0.40      0.51       126\n",
      "                          Eyewear       0.00      0.00      0.00         1\n",
      "                         Footwear       0.96      0.46      0.62       259\n",
      "                        Furniture       0.92      0.31      0.46        39\n",
      "                           Gaming       0.00      0.00      0.00        10\n",
      "Health & Personal Care Appliances       0.00      0.00      0.00         7\n",
      "                   Home & Kitchen       0.00      0.00      0.00         4\n",
      "       Home Decor & Festive Needs       0.75      0.62      0.67       185\n",
      "               Home Entertainment       0.00      0.00      0.00         3\n",
      "                  Home Furnishing       0.82      0.56      0.67       130\n",
      "                 Home Improvement       0.00      0.00      0.00        16\n",
      "                        Jewellery       0.45      0.99      0.62       669\n",
      "                 Kitchen & Dining       0.95      0.54      0.69       133\n",
      "            Mobiles & Accessories       0.91      0.79      0.85       234\n",
      "                Pens & Stationery       1.00      0.15      0.26        80\n",
      "                     Pet Supplies       0.00      0.00      0.00         9\n",
      "                 Sports & Fitness       0.60      0.07      0.12        43\n",
      "                       Sunglasses       0.00      0.00      0.00        10\n",
      "                 Tools & Hardware       1.00      0.27      0.42        79\n",
      "           Toys & School Supplies       1.00      0.18      0.31        61\n",
      "                          Watches       1.00      0.92      0.96       107\n",
      "                           eBooks       0.00      0.00      0.00         4\n",
      "\n",
      "                         accuracy                           0.74      3934\n",
      "                        macro avg       0.55      0.32      0.37      3934\n",
      "                     weighted avg       0.80      0.74      0.71      3934\n",
      "\n",
      "[[ 181    0    0    0    0    0    0    0    0    0    0    0    0    0\n",
      "     0    1    0   10    0    1    0    0    0    0    0    0    0    0]\n",
      " [   1   14    0    3    0   40    0    0    1    0    0    0    0    3\n",
      "     0    5    0   53    0    1    0    0    0    0    0    0    0    0]\n",
      " [   0    1   18    0    0   10    0    0    0    0    0    0    0    0\n",
      "     0    0    0   13    0    1    0    0    0    0    0    0    0    0]\n",
      " [   1    0    0   46    0    3    1    0    0    0    0    0    0    3\n",
      "     0    0    0   80    0    0    0    0    1    0    0    0    0    0]\n",
      " [   1    0    0    0    0    0    3    0    0    0    0    0    0    0\n",
      "     0    0    0   11    0    0    0    0    0    0    0    0    0    0]\n",
      " [   0    3    1    0    0 1210    0    0    0    0    0    0    0    0\n",
      "     0    0    0    3    1    0    0    0    0    0    0    0    0    0]\n",
      " [   1    0    0    0    0    0   51    0    0    0    0    0    0    0\n",
      "     0    0    0   70    0    4    0    0    0    0    0    0    0    0]\n",
      " [   0    0    0    0    0    0    0    0    0    0    0    0    0    0\n",
      "     0    0    0    0    0    1    0    0    0    0    0    0    0    0]\n",
      " [   0    0    0    1    0    6    0    0  119    0    0    0    0    0\n",
      "     0    0    0  133    0    0    0    0    0    0    0    0    0    0]\n",
      " [   0    0    0    0    0    1    0    0    0   12    0    0    0    1\n",
      "     0    4    0   20    0    1    0    0    0    0    0    0    0    0]\n",
      " [   0    0    0    0    0    1    2    0    0    0    0    0    0    0\n",
      "     0    0    0    0    0    7    0    0    0    0    0    0    0    0]\n",
      " [   1    0    0    0    0    1    0    0    0    0    0    0    0    1\n",
      "     0    0    0    4    0    0    0    0    0    0    0    0    0    0]\n",
      " [   1    0    0    0    0    0    2    0    0    0    0    0    0    0\n",
      "     0    0    0    1    0    0    0    0    0    0    0    0    0    0]\n",
      " [   0    0    0    1    0    0    2    0    0    0    0    0    0  114\n",
      "     0    0    0   68    0    0    0    0    0    0    0    0    0    0]\n",
      " [   0    0    0    0    0    0    2    0    0    0    0    0    0    0\n",
      "     0    0    0    0    0    1    0    0    0    0    0    0    0    0]\n",
      " [   0    0    0    0    0    4    0    0    0    0    0    0    0    0\n",
      "     0   73    0   53    0    0    0    0    0    0    0    0    0    0]\n",
      " [   0    0    0    0    0    0    0    0    0    1    0    0    0    3\n",
      "     0    0    0   11    1    0    0    0    0    0    0    0    0    0]\n",
      " [   0    3    0    0    0    0    0    0    0    0    0    0    0    1\n",
      "     0    0    0  664    0    0    0    0    1    0    0    0    0    0]\n",
      " [   0    0    0    1    0    3    2    0    0    0    0    0    0    2\n",
      "     0    3    0   50   72    0    0    0    0    0    0    0    0    0]\n",
      " [   3    0    0    0    0    0    3    0    0    0    0    0    0    0\n",
      "     0    0    0   43    0  185    0    0    0    0    0    0    0    0]\n",
      " [   2    0    0    0    0    1    3    0    0    0    0    0    0   10\n",
      "     0    0    0   51    0    1   12    0    0    0    0    0    0    0]\n",
      " [   3    0    0    1    0    0    0    0    0    0    0    0    0    4\n",
      "     0    0    0    1    0    0    0    0    0    0    0    0    0    0]\n",
      " [   4    0    2    0    0    5    0    0    4    0    0    0    0    2\n",
      "     0    2    0   21    0    0    0    0    3    0    0    0    0    0]\n",
      " [   0    0    0    0    0    3    0    0    0    0    0    0    0    5\n",
      "     0    0    0    2    0    0    0    0    0    0    0    0    0    0]\n",
      " [   2    0    0    0    0    0    0    0    0    0    0    0    0    3\n",
      "     0    0    0   53    0    0    0    0    0    0   21    0    0    0]\n",
      " [   0    0    0    0    0    2    1    0    0    0    0    0    0    1\n",
      "     0    1    0   43    2    0    0    0    0    0    0   11    0    0]\n",
      " [   0    0    0    0    0    0    0    0    0    0    0    0    0    0\n",
      "     0    0    0    9    0    0    0    0    0    0    0    0   98    0]\n",
      " [   1    0    0    0    0    0    1    0    0    0    0    0    0    0\n",
      "     0    0    0    2    0    0    0    0    0    0    0    0    0    0]]\n"
     ]
    },
    {
     "name": "stderr",
     "output_type": "stream",
     "text": [
      "C:\\Users\\kusha\\anaconda3\\lib\\site-packages\\sklearn\\metrics\\_classification.py:1221: UndefinedMetricWarning: Precision and F-score are ill-defined and being set to 0.0 in labels with no predicted samples. Use `zero_division` parameter to control this behavior.\n",
      "  _warn_prf(average, modifier, msg_start, len(result))\n"
     ]
    }
   ],
   "source": [
    "print(classification_report(y_test, y_pred))\n",
    "print(confusion_matrix(y_test, y_pred))"
   ]
  },
  {
   "cell_type": "code",
   "execution_count": 156,
   "metadata": {},
   "outputs": [
    {
     "data": {
      "text/plain": [
       "<3934x13595 sparse matrix of type '<class 'numpy.int64'>'\n",
       "\twith 82664 stored elements in Compressed Sparse Row format>"
      ]
     },
     "execution_count": 156,
     "metadata": {},
     "output_type": "execute_result"
    }
   ],
   "source": [
    "count_vec = CountVectorizer()\n",
    "\n",
    "X_train_features = count_vec.fit_transform(X_train)\n",
    "\n",
    "X_train_features.todense()\n",
    "\n",
    "X_test_features = count_vec.transform(X_test)\n",
    "\n",
    "X_test_features"
   ]
  },
  {
   "cell_type": "code",
   "execution_count": null,
   "metadata": {},
   "outputs": [],
   "source": []
  },
  {
   "cell_type": "code",
   "execution_count": null,
   "metadata": {},
   "outputs": [],
   "source": []
  },
  {
   "cell_type": "code",
   "execution_count": null,
   "metadata": {},
   "outputs": [],
   "source": []
  },
  {
   "cell_type": "code",
   "execution_count": null,
   "metadata": {},
   "outputs": [],
   "source": []
  }
 ],
 "metadata": {
  "kernelspec": {
   "display_name": "Python 3",
   "language": "python",
   "name": "python3"
  },
  "language_info": {
   "codemirror_mode": {
    "name": "ipython",
    "version": 3
   },
   "file_extension": ".py",
   "mimetype": "text/x-python",
   "name": "python",
   "nbconvert_exporter": "python",
   "pygments_lexer": "ipython3",
   "version": "3.8.5"
  }
 },
 "nbformat": 4,
 "nbformat_minor": 4
}
