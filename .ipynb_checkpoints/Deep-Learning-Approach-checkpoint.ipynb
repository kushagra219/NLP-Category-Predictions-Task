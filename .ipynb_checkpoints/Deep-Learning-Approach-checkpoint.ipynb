{
 "cells": [
  {
   "cell_type": "markdown",
   "metadata": {},
   "source": [
    "### For Exploratory Data Analysis, refer this notebook [Exploratory Data Analysis](./Exploratory-Data-Analysis.ipynb)\n",
    "\n",
    "### For Machine Learning models implementation, refer this notebook [ML Models Implementation](./ML-Models-Implementation.ipynb)"
   ]
  },
  {
   "cell_type": "markdown",
   "metadata": {},
   "source": [
    "# Importing Libraries"
   ]
  },
  {
   "cell_type": "code",
   "execution_count": 1,
   "metadata": {},
   "outputs": [],
   "source": [
    "# data manipulation libraries\n",
    "import numpy as np\n",
    "import pandas as pd\n",
    "import matplotlib.pyplot as plt\n",
    "%matplotlib inline\n",
    "\n",
    "# tensorflow imports\n",
    "import tensorflow as tf\n",
    "from tensorflow import keras\n",
    "from tensorflow.keras.layers import Dropout, Dense\n",
    "from tensorflow.keras.models import Sequential\n",
    "from tensorflow.keras.preprocessing.text import Tokenizer\n",
    "from tensorflow.keras.preprocessing.sequence import pad_sequences\n",
    "\n",
    "# sklearn imports\n",
    "from sklearn.feature_extraction.text import CountVectorizer, TfidfVectorizer\n",
    "from sklearn.model_selection import train_test_split \n",
    "from sklearn.preprocessing import LabelEncoder\n",
    "from sklearn.model_selection import train_test_split, cross_val_score, RepeatedStratifiedKFold, cross_validate\n",
    "from sklearn.metrics import classification_report, confusion_matrix, accuracy_score, \\\n",
    "f1_score, recall_score, roc_auc_score, precision_score, make_scorer"
   ]
  },
  {
   "cell_type": "code",
   "execution_count": 2,
   "metadata": {},
   "outputs": [],
   "source": [
    "# constants to be used for word embedding model \n",
    "\n",
    "vocab_size = 10000\n",
    "embedding_dim = 16\n",
    "max_length = 500\n",
    "trunc_type='post'\n",
    "padding_type='post'\n",
    "oov_tok = \"<OOV>\"\n",
    "training_size = 35000"
   ]
  },
  {
   "cell_type": "markdown",
   "metadata": {},
   "source": [
    "# Reading the clean data \n",
    "\n",
    "* reading the cleaned data from the saved files\n",
    "* assigning them to their corresponding columns in the dataframe"
   ]
  },
  {
   "cell_type": "code",
   "execution_count": 3,
   "metadata": {},
   "outputs": [
    {
     "data": {
      "text/html": [
       "<div>\n",
       "<style scoped>\n",
       "    .dataframe tbody tr th:only-of-type {\n",
       "        vertical-align: middle;\n",
       "    }\n",
       "\n",
       "    .dataframe tbody tr th {\n",
       "        vertical-align: top;\n",
       "    }\n",
       "\n",
       "    .dataframe thead th {\n",
       "        text-align: right;\n",
       "    }\n",
       "</style>\n",
       "<table border=\"1\" class=\"dataframe\">\n",
       "  <thead>\n",
       "    <tr style=\"text-align: right;\">\n",
       "      <th></th>\n",
       "      <th>description</th>\n",
       "      <th>primary_category</th>\n",
       "    </tr>\n",
       "  </thead>\n",
       "  <tbody>\n",
       "    <tr>\n",
       "      <th>0</th>\n",
       "      <td>alisha solid woman cycling short cotton lycra ...</td>\n",
       "      <td>Clothing</td>\n",
       "    </tr>\n",
       "    <tr>\n",
       "      <th>1</th>\n",
       "      <td>fabhomedecor fabric double sofa bed finish col...</td>\n",
       "      <td>Furniture</td>\n",
       "    </tr>\n",
       "    <tr>\n",
       "      <th>2</th>\n",
       "      <td>belly sandal wedge heel casuals belly price ma...</td>\n",
       "      <td>Footwear</td>\n",
       "    </tr>\n",
       "  </tbody>\n",
       "</table>\n",
       "</div>"
      ],
      "text/plain": [
       "                                         description primary_category\n",
       "0  alisha solid woman cycling short cotton lycra ...         Clothing\n",
       "1  fabhomedecor fabric double sofa bed finish col...        Furniture\n",
       "2  belly sandal wedge heel casuals belly price ma...         Footwear"
      ]
     },
     "execution_count": 3,
     "metadata": {},
     "output_type": "execute_result"
    }
   ],
   "source": [
    "with open('clean-dataset/corpus.txt', 'r', encoding='utf-8') as file:\n",
    "    description = list(file.readlines())\n",
    "    \n",
    "with open('clean-dataset/final-categories.txt', 'rt') as file:\n",
    "    primary_category = list(file.readlines())\n",
    "    \n",
    "df = pd.DataFrame()\n",
    "df[\"description\"] = description \n",
    "df[\"primary_category\"] = primary_category\n",
    "df[\"description\"] = df[\"description\"].str.replace('\\n', '') \n",
    "df[\"primary_category\"] = df[\"primary_category\"].str.replace('\\n', '')\n",
    "\n",
    "df.head(3)"
   ]
  },
  {
   "cell_type": "markdown",
   "metadata": {},
   "source": [
    "# Splitting the data into training and testing set\n",
    "\n",
    "* Dividing the whole data into 80:20 ratio using train_test_split from sklearn"
   ]
  },
  {
   "cell_type": "code",
   "execution_count": 4,
   "metadata": {},
   "outputs": [
    {
     "name": "stdout",
     "output_type": "stream",
     "text": [
      "(15732,)\n",
      "(3934,)\n",
      "(15732,)\n",
      "(3934,)\n"
     ]
    }
   ],
   "source": [
    "X = np.array(df[\"description\"])\n",
    "y = np.array(df[\"primary_category\"])\n",
    "\n",
    "training_sentences, testing_sentences, training_labels, testing_labels = train_test_split(X, y, test_size=0.20, random_state=73)\n",
    "\n",
    "print(training_sentences.shape)\n",
    "print(testing_sentences.shape)\n",
    "print(training_labels.shape)\n",
    "print(testing_labels.shape)"
   ]
  },
  {
   "cell_type": "markdown",
   "metadata": {},
   "source": [
    "# Converting Labels using Label Encoder\n",
    "\n",
    "* Text is not accepted as labels in deep learning models \n",
    "* So, we have to transform the training and testing labels using Label Encoder"
   ]
  },
  {
   "cell_type": "code",
   "execution_count": 5,
   "metadata": {},
   "outputs": [
    {
     "data": {
      "text/plain": [
       "array([ 3, 20,  5, ..., 13, 26, 17])"
      ]
     },
     "execution_count": 5,
     "metadata": {},
     "output_type": "execute_result"
    }
   ],
   "source": [
    "le = LabelEncoder()\n",
    "training_labels = le.fit_transform(training_labels)\n",
    "\n",
    "training_labels"
   ]
  },
  {
   "cell_type": "code",
   "execution_count": 6,
   "metadata": {},
   "outputs": [
    {
     "data": {
      "text/plain": [
       "array([17,  6,  3, ..., 24, 17, 13])"
      ]
     },
     "execution_count": 6,
     "metadata": {},
     "output_type": "execute_result"
    }
   ],
   "source": [
    "testing_labels = le.transform(testing_labels)\n",
    "\n",
    "testing_labels"
   ]
  },
  {
   "cell_type": "markdown",
   "metadata": {},
   "source": [
    "# Feature Extraction Functions\n",
    "\n",
    "* Count Vectorizer\n",
    "* TF-IDF Vectorizer\n",
    "* Pipeline of Count Vectorizer followed by TF-IDF Vectorizer followed by the model"
   ]
  },
  {
   "cell_type": "code",
   "execution_count": 7,
   "metadata": {},
   "outputs": [],
   "source": [
    "# returns X_train_features and X_test_features after applying CountVectorizer on both \n",
    "\n",
    "def CountVec(X_train, X_test):\n",
    "    count_vec = CountVectorizer()\n",
    "    X_train_features = count_vec.fit_transform(X_train).toarray()\n",
    "    X_test_features = count_vec.transform(X_test).toarray()\n",
    "    return (X_train_features, X_test_features)"
   ]
  },
  {
   "cell_type": "code",
   "execution_count": 8,
   "metadata": {},
   "outputs": [],
   "source": [
    "# returns X_train_features and X_test_features after applying TFIDFVectorizer on both \n",
    "\n",
    "def TFIDF(X_train, X_test):\n",
    "    tfidf_vec = TfidfVectorizer()\n",
    "    X_train_features = tfidf_vec.fit_transform(X_train).toarray()\n",
    "    X_test_features = tfidf_vec.transform(X_test).toarray()\n",
    "    return (X_train_features, X_test_features)"
   ]
  },
  {
   "cell_type": "markdown",
   "metadata": {},
   "source": [
    "# Plot history function \n",
    "\n",
    "* plot accuracy against no of epocs for trained deep learning model\n",
    "* plot loss against no of epocs for trained deep learning model"
   ]
  },
  {
   "cell_type": "code",
   "execution_count": 9,
   "metadata": {},
   "outputs": [],
   "source": [
    "# summarize history for accuracy & loss\n",
    "\n",
    "def plot_history(history):\n",
    "    fig, axes = plt.subplots(nrows=1, ncols=2) \n",
    "    \n",
    "    plt.subplot(1, 2, 1)\n",
    "    plt.plot(history.history['accuracy'])\n",
    "    plt.plot(history.history['val_accuracy'])\n",
    "    plt.title('model accuracy')\n",
    "    plt.ylabel('accuracy')\n",
    "    plt.xlabel('epoch')\n",
    "    plt.legend(['train', 'test'], loc='upper left')\n",
    "    \n",
    "    plt.subplot(1, 2, 2)\n",
    "    plt.plot(history.history['loss'])\n",
    "    plt.plot(history.history['val_loss'])\n",
    "    plt.title('model loss')\n",
    "    plt.ylabel('loss')\n",
    "    plt.xlabel('epoch')\n",
    "    plt.legend(['train', 'test'], loc='upper left')\n",
    "    \n",
    "    fig.tight_layout()\n",
    "    plt.show()"
   ]
  },
  {
   "cell_type": "markdown",
   "metadata": {},
   "source": [
    "# Dense Neural Network with Text Embedding"
   ]
  },
  {
   "cell_type": "code",
   "execution_count": 10,
   "metadata": {},
   "outputs": [],
   "source": [
    "# converting text to sequences using tokenizer\n",
    "\n",
    "tokenizer = Tokenizer(num_words=vocab_size, oov_token=oov_tok)\n",
    "tokenizer.fit_on_texts(training_sentences)\n",
    "\n",
    "word_index = tokenizer.word_index\n",
    "\n",
    "training_sequences = tokenizer.texts_to_sequences(training_sentences)\n",
    "training_padded = pad_sequences(training_sequences, maxlen=max_length, padding=padding_type, truncating=trunc_type)\n",
    "\n",
    "testing_sequences = tokenizer.texts_to_sequences(testing_sentences)\n",
    "testing_padded = pad_sequences(testing_sequences, maxlen=max_length, padding=padding_type, truncating=trunc_type)"
   ]
  },
  {
   "cell_type": "code",
   "execution_count": 11,
   "metadata": {},
   "outputs": [
    {
     "name": "stdout",
     "output_type": "stream",
     "text": [
      "15732\n",
      "[[1940  232 2460 ...    0    0    0]\n",
      " [  13    1  728 ...    0    0    0]\n",
      " [2599   10  184 ...    0    0    0]\n",
      " ...\n",
      " [2766  401  223 ...    0    0    0]\n",
      " [ 975  126   94 ...    0    0    0]\n",
      " [ 233   58   24 ...    0    0    0]]\n"
     ]
    }
   ],
   "source": [
    "print(len(training_sequences))\n",
    "print(training_padded)"
   ]
  },
  {
   "cell_type": "code",
   "execution_count": 12,
   "metadata": {},
   "outputs": [],
   "source": [
    "# converting to numpy arrays\n",
    "\n",
    "training_padded = np.array(training_padded)\n",
    "training_labels = np.array(training_labels)\n",
    "testing_padded = np.array(testing_padded)\n",
    "testing_labels = np.array(testing_labels)"
   ]
  },
  {
   "cell_type": "code",
   "execution_count": 13,
   "metadata": {},
   "outputs": [
    {
     "name": "stdout",
     "output_type": "stream",
     "text": [
      "Model: \"sequential\"\n",
      "_________________________________________________________________\n",
      "Layer (type)                 Output Shape              Param #   \n",
      "=================================================================\n",
      "embedding (Embedding)        (None, 500, 16)           160000    \n",
      "_________________________________________________________________\n",
      "global_average_pooling1d (Gl (None, 16)                0         \n",
      "_________________________________________________________________\n",
      "dense (Dense)                (None, 24)                408       \n",
      "_________________________________________________________________\n",
      "dense_1 (Dense)              (None, 28)                700       \n",
      "=================================================================\n",
      "Total params: 161,108\n",
      "Trainable params: 161,108\n",
      "Non-trainable params: 0\n",
      "_________________________________________________________________\n"
     ]
    }
   ],
   "source": [
    "# building the model \n",
    "\n",
    "model = tf.keras.Sequential([\n",
    "    tf.keras.layers.Embedding(vocab_size, embedding_dim, input_length=max_length),\n",
    "    tf.keras.layers.GlobalAveragePooling1D(),\n",
    "    tf.keras.layers.Dense(24, activation='relu'),\n",
    "    tf.keras.layers.Dense(28, activation='softmax')\n",
    "])\n",
    "model.compile(loss='sparse_categorical_crossentropy',\n",
    "                  optimizer='adam',\n",
    "                  metrics=['accuracy'])\n",
    "\n",
    "model.summary()"
   ]
  },
  {
   "cell_type": "code",
   "execution_count": 14,
   "metadata": {
    "scrolled": true
   },
   "outputs": [
    {
     "name": "stdout",
     "output_type": "stream",
     "text": [
      "Epoch 1/50\n",
      "492/492 - 3s - loss: 2.5671 - accuracy: 0.3134 - val_loss: 2.4075 - val_accuracy: 0.3096\n",
      "Epoch 2/50\n",
      "492/492 - 2s - loss: 2.3021 - accuracy: 0.3180 - val_loss: 2.2394 - val_accuracy: 0.3208\n",
      "Epoch 3/50\n",
      "492/492 - 2s - loss: 1.9360 - accuracy: 0.4726 - val_loss: 1.7506 - val_accuracy: 0.5236\n",
      "Epoch 4/50\n",
      "492/492 - 2s - loss: 1.5449 - accuracy: 0.5567 - val_loss: 1.4696 - val_accuracy: 0.5722\n",
      "Epoch 5/50\n",
      "492/492 - 2s - loss: 1.3275 - accuracy: 0.6278 - val_loss: 1.3064 - val_accuracy: 0.6418\n",
      "Epoch 6/50\n",
      "492/492 - 2s - loss: 1.1967 - accuracy: 0.6616 - val_loss: 1.2042 - val_accuracy: 0.6566\n",
      "Epoch 7/50\n",
      "492/492 - 2s - loss: 1.1052 - accuracy: 0.6771 - val_loss: 1.1245 - val_accuracy: 0.6787\n",
      "Epoch 8/50\n",
      "492/492 - 2s - loss: 1.0271 - accuracy: 0.7046 - val_loss: 1.0544 - val_accuracy: 0.7150\n",
      "Epoch 9/50\n",
      "492/492 - 2s - loss: 0.9529 - accuracy: 0.7286 - val_loss: 0.9847 - val_accuracy: 0.7196\n",
      "Epoch 10/50\n",
      "492/492 - 2s - loss: 0.8806 - accuracy: 0.7630 - val_loss: 0.9204 - val_accuracy: 0.7697\n",
      "Epoch 11/50\n",
      "492/492 - 2s - loss: 0.8106 - accuracy: 0.7927 - val_loss: 0.8589 - val_accuracy: 0.7796\n",
      "Epoch 12/50\n",
      "492/492 - 2s - loss: 0.7465 - accuracy: 0.8115 - val_loss: 0.8033 - val_accuracy: 0.8025\n",
      "Epoch 13/50\n",
      "492/492 - 2s - loss: 0.6874 - accuracy: 0.8298 - val_loss: 0.7520 - val_accuracy: 0.8216\n",
      "Epoch 14/50\n",
      "492/492 - 2s - loss: 0.6327 - accuracy: 0.8446 - val_loss: 0.7032 - val_accuracy: 0.8305\n",
      "Epoch 15/50\n",
      "492/492 - 2s - loss: 0.5813 - accuracy: 0.8579 - val_loss: 0.6573 - val_accuracy: 0.8378\n",
      "Epoch 16/50\n",
      "492/492 - 2s - loss: 0.5331 - accuracy: 0.8698 - val_loss: 0.6191 - val_accuracy: 0.8541\n",
      "Epoch 17/50\n",
      "492/492 - 2s - loss: 0.4875 - accuracy: 0.8800 - val_loss: 0.5754 - val_accuracy: 0.8630\n",
      "Epoch 18/50\n",
      "492/492 - 2s - loss: 0.4515 - accuracy: 0.8884 - val_loss: 0.5510 - val_accuracy: 0.8620\n",
      "Epoch 19/50\n",
      "492/492 - 2s - loss: 0.4193 - accuracy: 0.8954 - val_loss: 0.5231 - val_accuracy: 0.8709\n",
      "Epoch 20/50\n",
      "492/492 - 2s - loss: 0.3921 - accuracy: 0.9050 - val_loss: 0.5010 - val_accuracy: 0.8805\n",
      "Epoch 21/50\n",
      "492/492 - 2s - loss: 0.3678 - accuracy: 0.9102 - val_loss: 0.4812 - val_accuracy: 0.8894\n",
      "Epoch 22/50\n",
      "492/492 - 2s - loss: 0.3454 - accuracy: 0.9170 - val_loss: 0.4645 - val_accuracy: 0.8925\n",
      "Epoch 23/50\n",
      "492/492 - 2s - loss: 0.3254 - accuracy: 0.9221 - val_loss: 0.4540 - val_accuracy: 0.8869\n",
      "Epoch 24/50\n",
      "492/492 - 2s - loss: 0.3058 - accuracy: 0.9263 - val_loss: 0.4323 - val_accuracy: 0.9009\n",
      "Epoch 25/50\n",
      "492/492 - 2s - loss: 0.2887 - accuracy: 0.9288 - val_loss: 0.4199 - val_accuracy: 0.9006\n",
      "Epoch 26/50\n",
      "492/492 - 2s - loss: 0.2731 - accuracy: 0.9334 - val_loss: 0.4063 - val_accuracy: 0.9049\n",
      "Epoch 27/50\n",
      "492/492 - 2s - loss: 0.2581 - accuracy: 0.9365 - val_loss: 0.4012 - val_accuracy: 0.9034\n",
      "Epoch 28/50\n",
      "492/492 - 2s - loss: 0.2443 - accuracy: 0.9399 - val_loss: 0.3887 - val_accuracy: 0.9072\n",
      "Epoch 29/50\n",
      "492/492 - 2s - loss: 0.2310 - accuracy: 0.9439 - val_loss: 0.3859 - val_accuracy: 0.9103\n",
      "Epoch 30/50\n",
      "492/492 - 2s - loss: 0.2190 - accuracy: 0.9467 - val_loss: 0.3708 - val_accuracy: 0.9187\n",
      "Epoch 31/50\n",
      "492/492 - 2s - loss: 0.2064 - accuracy: 0.9500 - val_loss: 0.3628 - val_accuracy: 0.9187\n",
      "Epoch 32/50\n",
      "492/492 - 2s - loss: 0.1957 - accuracy: 0.9523 - val_loss: 0.3566 - val_accuracy: 0.9212\n",
      "Epoch 33/50\n",
      "492/492 - 2s - loss: 0.1859 - accuracy: 0.9544 - val_loss: 0.3566 - val_accuracy: 0.9204\n",
      "Epoch 34/50\n",
      "492/492 - 2s - loss: 0.1764 - accuracy: 0.9571 - val_loss: 0.3417 - val_accuracy: 0.9263\n",
      "Epoch 35/50\n",
      "492/492 - 2s - loss: 0.1682 - accuracy: 0.9601 - val_loss: 0.3378 - val_accuracy: 0.9278\n",
      "Epoch 36/50\n",
      "492/492 - 2s - loss: 0.1592 - accuracy: 0.9612 - val_loss: 0.3326 - val_accuracy: 0.9304\n",
      "Epoch 37/50\n",
      "492/492 - 2s - loss: 0.1507 - accuracy: 0.9639 - val_loss: 0.3267 - val_accuracy: 0.9329\n",
      "Epoch 38/50\n",
      "492/492 - 2s - loss: 0.1436 - accuracy: 0.9656 - val_loss: 0.3225 - val_accuracy: 0.9331\n",
      "Epoch 39/50\n",
      "492/492 - 2s - loss: 0.1373 - accuracy: 0.9669 - val_loss: 0.3224 - val_accuracy: 0.9326\n",
      "Epoch 40/50\n",
      "492/492 - 2s - loss: 0.1308 - accuracy: 0.9693 - val_loss: 0.3217 - val_accuracy: 0.9324\n",
      "Epoch 41/50\n",
      "492/492 - 2s - loss: 0.1246 - accuracy: 0.9698 - val_loss: 0.3163 - val_accuracy: 0.9352\n",
      "Epoch 42/50\n",
      "492/492 - 2s - loss: 0.1191 - accuracy: 0.9720 - val_loss: 0.3133 - val_accuracy: 0.9365\n",
      "Epoch 43/50\n",
      "492/492 - 2s - loss: 0.1138 - accuracy: 0.9730 - val_loss: 0.3108 - val_accuracy: 0.9390\n",
      "Epoch 44/50\n",
      "492/492 - 2s - loss: 0.1086 - accuracy: 0.9737 - val_loss: 0.3084 - val_accuracy: 0.9415\n",
      "Epoch 45/50\n",
      "492/492 - 2s - loss: 0.1038 - accuracy: 0.9753 - val_loss: 0.3084 - val_accuracy: 0.9448\n",
      "Epoch 46/50\n",
      "492/492 - 2s - loss: 0.0993 - accuracy: 0.9754 - val_loss: 0.3034 - val_accuracy: 0.9387\n",
      "Epoch 47/50\n",
      "492/492 - 2s - loss: 0.0947 - accuracy: 0.9764 - val_loss: 0.3083 - val_accuracy: 0.9446\n",
      "Epoch 48/50\n",
      "492/492 - 2s - loss: 0.0905 - accuracy: 0.9790 - val_loss: 0.3061 - val_accuracy: 0.9405\n",
      "Epoch 49/50\n",
      "492/492 - 2s - loss: 0.0875 - accuracy: 0.9790 - val_loss: 0.3052 - val_accuracy: 0.9441\n",
      "Epoch 50/50\n",
      "492/492 - 2s - loss: 0.0833 - accuracy: 0.9799 - val_loss: 0.3011 - val_accuracy: 0.9476\n"
     ]
    }
   ],
   "source": [
    "# training the model\n",
    "\n",
    "num_epochs = 50\n",
    "history = model.fit(training_padded, training_labels, epochs=num_epochs, \n",
    "                    validation_data=(testing_padded, testing_labels), verbose=2)\n",
    "\n",
    "# model.save('trained-models/DNN-WordEmbeddings.pkl')\n",
    "\n",
    "# model = tf.keras.models.load_model('trained-models/DNN-WordEmbeddings.pkl')"
   ]
  },
  {
   "cell_type": "code",
   "execution_count": 15,
   "metadata": {},
   "outputs": [
    {
     "name": "stderr",
     "output_type": "stream",
     "text": [
      "C:\\Users\\kusha\\anaconda3\\lib\\site-packages\\tensorflow\\python\\keras\\engine\\sequential.py:450: UserWarning: `model.predict_classes()` is deprecated and will be removed after 2021-01-01. Please use instead:* `np.argmax(model.predict(x), axis=-1)`,   if your model does multi-class classification   (e.g. if it uses a `softmax` last-layer activation).* `(model.predict(x) > 0.5).astype(\"int32\")`,   if your model does binary classification   (e.g. if it uses a `sigmoid` last-layer activation).\n",
      "  warnings.warn('`model.predict_classes()` is deprecated and '\n"
     ]
    },
    {
     "name": "stdout",
     "output_type": "stream",
     "text": [
      "0.9476359938993391\n"
     ]
    }
   ],
   "source": [
    "# predictions\n",
    "\n",
    "predicted_labels = model.predict_classes(testing_padded)\n",
    "\n",
    "print(accuracy_score(testing_labels, predicted_labels))\n",
    "# print(classification_report(testing_labels, predicted))\n",
    "# print(confusion_matrix(testing_labels, predicted))"
   ]
  },
  {
   "cell_type": "code",
   "execution_count": 16,
   "metadata": {},
   "outputs": [
    {
     "name": "stdout",
     "output_type": "stream",
     "text": [
      "0.9837274345283499\n"
     ]
    }
   ],
   "source": [
    "# training predictions\n",
    "\n",
    "training_predicted_labels = model.predict_classes(training_padded)\n",
    "\n",
    "print(accuracy_score(training_labels, training_predicted_labels))"
   ]
  },
  {
   "cell_type": "code",
   "execution_count": 17,
   "metadata": {},
   "outputs": [
    {
     "data": {
      "image/png": "[encoded data removed]",
      "text/plain": [
       "<Figure size 432x288 with 2 Axes>"
      ]
     },
     "metadata": {
      "needs_background": "light"
     },
     "output_type": "display_data"
    }
   ],
   "source": [
    "# plotting the accuracy and loss graphs for the above model\n",
    "\n",
    "plot_history(history)"
   ]
  },
  {
   "cell_type": "markdown",
   "metadata": {},
   "source": [
    "# DNN using Text Vectorization (Count Vec / TF-IDF)"
   ]
  },
  {
   "cell_type": "code",
   "execution_count": 18,
   "metadata": {},
   "outputs": [
    {
     "name": "stdout",
     "output_type": "stream",
     "text": [
      "Model: \"sequential\"\n",
      "_________________________________________________________________\n",
      "Layer (type)                 Output Shape              Param #   \n",
      "=================================================================\n",
      "embedding (Embedding)        (None, 500, 16)           160000    \n",
      "_________________________________________________________________\n",
      "global_average_pooling1d (Gl (None, 16)                0         \n",
      "_________________________________________________________________\n",
      "dense (Dense)                (None, 24)                408       \n",
      "_________________________________________________________________\n",
      "dense_1 (Dense)              (None, 28)                700       \n",
      "=================================================================\n",
      "Total params: 161,108\n",
      "Trainable params: 161,108\n",
      "Non-trainable params: 0\n",
      "_________________________________________________________________\n",
      "None\n"
     ]
    }
   ],
   "source": [
    "# Build Deep neural networks Model for text classification\n",
    "# Shape is input feature space\n",
    "# n_classes is number of unqiue classes\n",
    "\n",
    "\n",
    "def Build_DNN_Model_Text(shape, n_classes, dropout=0.5):\n",
    "    model = Sequential()\n",
    "    node = 512 # number of nodes\n",
    "    n_layers = 4 # number of  hidden layers\n",
    "    model.add(Dense(node, input_dim=shape, activation='relu'))\n",
    "    model.add(Dropout(dropout))\n",
    "    for i in range(0, n_layers):\n",
    "        model.add(Dense(node, input_dim=node, activation='relu'))\n",
    "        model.add(Dropout(dropout))\n",
    "        \n",
    "    model.add(Dense(n_classes, activation='softmax'))\n",
    "    model.compile(loss='sparse_categorical_crossentropy',\n",
    "                  optimizer='adam',\n",
    "                  metrics=['accuracy'])\n",
    "    return model\n",
    "\n",
    "X_train_features, X_test_features = CountVec(training_sentences, testing_sentences)\n",
    "# X_train_features, X_test_features = TFIDF(training_sentences, testing_sentences)\n",
    "\n",
    "model_DNN = Build_DNN_Model_Text(X_train_features.shape[1], 28)\n",
    "print(model.summary())"
   ]
  },
  {
   "cell_type": "code",
   "execution_count": 19,
   "metadata": {},
   "outputs": [
    {
     "name": "stdout",
     "output_type": "stream",
     "text": [
      "Epoch 1/15\n",
      "123/123 - 14s - loss: 1.5021 - accuracy: 0.5605 - val_loss: 0.6825 - val_accuracy: 0.8109\n",
      "Epoch 2/15\n",
      "123/123 - 13s - loss: 0.5352 - accuracy: 0.8495 - val_loss: 0.3502 - val_accuracy: 0.9039\n",
      "Epoch 3/15\n",
      "123/123 - 11s - loss: 0.3010 - accuracy: 0.9144 - val_loss: 0.2683 - val_accuracy: 0.9319\n",
      "Epoch 4/15\n",
      "123/123 - 11s - loss: 0.2108 - accuracy: 0.9395 - val_loss: 0.2312 - val_accuracy: 0.9479\n",
      "Epoch 5/15\n",
      "123/123 - 14s - loss: 0.1535 - accuracy: 0.9566 - val_loss: 0.2548 - val_accuracy: 0.9593\n",
      "Epoch 6/15\n",
      "123/123 - 12s - loss: 0.1281 - accuracy: 0.9640 - val_loss: 0.2253 - val_accuracy: 0.9629\n",
      "Epoch 7/15\n",
      "123/123 - 12s - loss: 0.1071 - accuracy: 0.9697 - val_loss: 0.2302 - val_accuracy: 0.9675\n",
      "Epoch 8/15\n",
      "123/123 - 12s - loss: 0.0900 - accuracy: 0.9753 - val_loss: 0.2214 - val_accuracy: 0.9654\n",
      "Epoch 9/15\n",
      "123/123 - 11s - loss: 0.0955 - accuracy: 0.9767 - val_loss: 0.1953 - val_accuracy: 0.9642\n",
      "Epoch 10/15\n",
      "123/123 - 12s - loss: 0.0822 - accuracy: 0.9797 - val_loss: 0.2079 - val_accuracy: 0.9667\n",
      "Epoch 11/15\n",
      "123/123 - 12s - loss: 0.0768 - accuracy: 0.9815 - val_loss: 0.2006 - val_accuracy: 0.9718\n",
      "Epoch 12/15\n",
      "123/123 - 13s - loss: 0.0633 - accuracy: 0.9847 - val_loss: 0.2327 - val_accuracy: 0.9728\n",
      "Epoch 13/15\n",
      "123/123 - 11s - loss: 0.0668 - accuracy: 0.9846 - val_loss: 0.2057 - val_accuracy: 0.9741\n",
      "Epoch 14/15\n",
      "123/123 - 12s - loss: 0.0543 - accuracy: 0.9862 - val_loss: 0.2057 - val_accuracy: 0.9753\n",
      "Epoch 15/15\n",
      "123/123 - 12s - loss: 0.0577 - accuracy: 0.9869 - val_loss: 0.2204 - val_accuracy: 0.9738\n"
     ]
    }
   ],
   "source": [
    "# training the model \n",
    "\n",
    "history = model_DNN.fit(X_train_features, training_labels,\n",
    "                              validation_data=(X_test_features, testing_labels),\n",
    "                              epochs=15,\n",
    "                              batch_size=128,\n",
    "                              verbose=2)\n",
    "\n",
    "# model_DNN.save('trained-models/DNN-countvec.pkl')\n",
    "# model_DNN = tf.keras.models.load_model('trained-models/DNN-countvec.pkl')\n",
    "\n",
    "# model_DNN.save('trained-models/DNN-tfidf.pkl')\n",
    "# model_DNN = tf.keras.models.load_model('trained-models/DNN-tfidf.pkl')"
   ]
  },
  {
   "cell_type": "code",
   "execution_count": 20,
   "metadata": {},
   "outputs": [
    {
     "name": "stdout",
     "output_type": "stream",
     "text": [
      "0.9738179969496695\n"
     ]
    }
   ],
   "source": [
    "# predictions\n",
    "\n",
    "predicted_labels = model_DNN.predict_classes(X_test_features)\n",
    "\n",
    "print(accuracy_score(testing_labels, predicted_labels))\n",
    "# print(classification_report(testing_labels, predicted))\n",
    "# print(confusion_matrix(testing_labels, predicted))"
   ]
  },
  {
   "cell_type": "code",
   "execution_count": 21,
   "metadata": {},
   "outputs": [
    {
     "name": "stdout",
     "output_type": "stream",
     "text": [
      "0.9960589880498347\n"
     ]
    }
   ],
   "source": [
    "# training predictions\n",
    "\n",
    "training_predicted_labels = model_DNN.predict_classes(X_train_features)\n",
    "\n",
    "print(accuracy_score(training_labels, training_predicted_labels))"
   ]
  },
  {
   "cell_type": "code",
   "execution_count": 22,
   "metadata": {},
   "outputs": [
    {
     "data": {
      "image/png": "[encoded data removed]",
      "text/plain": [
       "<Figure size 432x288 with 2 Axes>"
      ]
     },
     "metadata": {
      "needs_background": "light"
     },
     "output_type": "display_data"
    }
   ],
   "source": [
    "# plotting the accuracy and loss graphs for the above model\n",
    "\n",
    "plot_history(history)"
   ]
  },
  {
   "cell_type": "code",
   "execution_count": null,
   "metadata": {},
   "outputs": [],
   "source": []
  }
 ],
 "metadata": {
  "kernelspec": {
   "display_name": "Python 3",
   "language": "python",
   "name": "python3"
  },
  "language_info": {
   "codemirror_mode": {
    "name": "ipython",
    "version": 3
   },
   "file_extension": ".py",
   "mimetype": "text/x-python",
   "name": "python",
   "nbconvert_exporter": "python",
   "pygments_lexer": "ipython3",
   "version": "3.8.5"
  }
 },
 "nbformat": 4,
 "nbformat_minor": 4
}
