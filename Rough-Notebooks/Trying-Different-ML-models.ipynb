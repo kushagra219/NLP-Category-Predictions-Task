{
 "cells": [
  {
   "cell_type": "code",
   "execution_count": 1,
   "metadata": {},
   "outputs": [],
   "source": [
    "import string\n",
    "import pickle\n",
    "from IPython.display import display\n",
    "\n",
    "# data manipulation & vizualization libraries\n",
    "import numpy as np\n",
    "import pandas as pd\n",
    "import matplotlib.pyplot as plt\n",
    "%matplotlib inline\n",
    "import seaborn as sns\n",
    "\n",
    "# sklearn imports\n",
    "from sklearn.preprocessing import LabelEncoder\n",
    "from sklearn.ensemble import RandomForestClassifier, GradientBoostingClassifier, \\\n",
    "AdaBoostClassifier, BaggingClassifier, ExtraTreesClassifier, StackingClassifier, VotingClassifier\n",
    "from sklearn.naive_bayes import MultinomialNB, BernoulliNB\n",
    "from sklearn.feature_extraction.text import CountVectorizer, TfidfVectorizer, TfidfTransformer\n",
    "from sklearn.model_selection import train_test_split, cross_val_score, RepeatedStratifiedKFold, cross_validate\n",
    "from sklearn.metrics import classification_report, confusion_matrix, accuracy_score, \\\n",
    "f1_score, recall_score, roc_auc_score, precision_score, make_scorer\n",
    "from sklearn.neighbors import NearestCentroid, KNeighborsClassifier\n",
    "from sklearn.pipeline import Pipeline\n",
    "from xgboost import XGBClassifier"
   ]
  },
  {
   "cell_type": "code",
   "execution_count": 2,
   "metadata": {},
   "outputs": [
    {
     "data": {
      "text/html": [
       "<div>\n",
       "<style scoped>\n",
       "    .dataframe tbody tr th:only-of-type {\n",
       "        vertical-align: middle;\n",
       "    }\n",
       "\n",
       "    .dataframe tbody tr th {\n",
       "        vertical-align: top;\n",
       "    }\n",
       "\n",
       "    .dataframe thead th {\n",
       "        text-align: right;\n",
       "    }\n",
       "</style>\n",
       "<table border=\"1\" class=\"dataframe\">\n",
       "  <thead>\n",
       "    <tr style=\"text-align: right;\">\n",
       "      <th></th>\n",
       "      <th>description</th>\n",
       "      <th>primary_category</th>\n",
       "    </tr>\n",
       "  </thead>\n",
       "  <tbody>\n",
       "    <tr>\n",
       "      <th>0</th>\n",
       "      <td>alisha solid woman cycling short cotton lycra ...</td>\n",
       "      <td>Clothing</td>\n",
       "    </tr>\n",
       "    <tr>\n",
       "      <th>1</th>\n",
       "      <td>fabhomedecor fabric double sofa bed finish col...</td>\n",
       "      <td>Furniture</td>\n",
       "    </tr>\n",
       "    <tr>\n",
       "      <th>2</th>\n",
       "      <td>belly sandal wedge heel casuals belly price ma...</td>\n",
       "      <td>Footwear</td>\n",
       "    </tr>\n",
       "  </tbody>\n",
       "</table>\n",
       "</div>"
      ],
      "text/plain": [
       "                                         description primary_category\n",
       "0  alisha solid woman cycling short cotton lycra ...         Clothing\n",
       "1  fabhomedecor fabric double sofa bed finish col...        Furniture\n",
       "2  belly sandal wedge heel casuals belly price ma...         Footwear"
      ]
     },
     "execution_count": 2,
     "metadata": {},
     "output_type": "execute_result"
    }
   ],
   "source": [
    "# reading the corpus of cleaned data and asigning each column to the new dataframe\n",
    "\n",
    "with open('corpus.txt', 'rt', encoding='utf-8') as file:\n",
    "    description = list(file.readlines())\n",
    "    \n",
    "with open('final-categories.txt', 'rt') as file:\n",
    "    primary_category = list(file.readlines())\n",
    "    \n",
    "df = pd.DataFrame()\n",
    "df[\"description\"] = description \n",
    "df[\"primary_category\"] = primary_category\n",
    "df[\"description\"] = df[\"description\"].str.replace('\\n', '') \n",
    "df[\"primary_category\"] = df[\"primary_category\"].str.replace('\\n', '')\n",
    "\n",
    "df.head(3)"
   ]
  },
  {
   "cell_type": "code",
   "execution_count": 3,
   "metadata": {},
   "outputs": [
    {
     "data": {
      "text/plain": [
       "738577"
      ]
     },
     "execution_count": 3,
     "metadata": {},
     "output_type": "execute_result"
    }
   ],
   "source": [
    "# total no of words in desciption column \n",
    "\n",
    "df[\"description\"].str.split().str.len().sum()"
   ]
  },
  {
   "cell_type": "code",
   "execution_count": 4,
   "metadata": {},
   "outputs": [
    {
     "name": "stdout",
     "output_type": "stream",
     "text": [
      "(15732,)\n",
      "(15732,)\n",
      "(3934,)\n",
      "(3934,)\n"
     ]
    }
   ],
   "source": [
    "# splitting the X, y into X_train, X_test, y_train & y_test\n",
    "\n",
    "X = np.array(df[\"description\"])\n",
    "y = np.array(df[\"primary_category\"])\n",
    "\n",
    "# le = LabelEncoder()\n",
    "\n",
    "X_train, X_test, y_train, y_test = train_test_split(X, y, test_size=0.20, random_state=73)\n",
    "# y_train = le.fit_transform(y_train)\n",
    "# y_test = le.transform(y_test)\n",
    "\n",
    "print(X_train.shape)\n",
    "print(y_train.shape)\n",
    "print(X_test.shape)\n",
    "print(y_test.shape)"
   ]
  },
  {
   "cell_type": "code",
   "execution_count": 5,
   "metadata": {},
   "outputs": [],
   "source": [
    "# returns X_train_features and X_test_features after applying CountVectorizer on both \n",
    "\n",
    "def CountVec(X_train, X_test):\n",
    "    count_vec = CountVectorizer()\n",
    "    X_train_features = count_vec.fit_transform(X_train)\n",
    "    X_test_features = count_vec.transform(X_test)\n",
    "    return (X_train_features, X_test_features)"
   ]
  },
  {
   "cell_type": "code",
   "execution_count": 6,
   "metadata": {},
   "outputs": [],
   "source": [
    "# returns X_train_features and X_test_features after applying TFIDFVectorizer on both \n",
    "\n",
    "def TFIDF(X_train, X_test):\n",
    "    tfidf_vec = TfidfVectorizer()\n",
    "    X_train_features = tfidf_vec.fit_transform(X_train)\n",
    "    X_test_features = tfidf_vec.transform(X_test)\n",
    "    return (X_train_features, X_test_features)"
   ]
  },
  {
   "cell_type": "code",
   "execution_count": 7,
   "metadata": {},
   "outputs": [],
   "source": [
    "# returns a pipeline of CountVectorizer, followed by TFIDF Vectorizer and then followed by the ML model \n",
    "\n",
    "def CountVec_TFIDF_Pipeline(model):\n",
    "    return Pipeline([('vect', CountVectorizer()),\n",
    "                     ('tfidf', TfidfTransformer()),\n",
    "                     ('clf', model)])"
   ]
  },
  {
   "cell_type": "code",
   "execution_count": 12,
   "metadata": {},
   "outputs": [
    {
     "data": {
      "text/plain": [
       "Pipeline(steps=[('vect', CountVectorizer()), ('tfidf', TfidfTransformer()),\n",
       "                ('clf', MultinomialNB(alpha=0.01))])"
      ]
     },
     "execution_count": 12,
     "metadata": {},
     "output_type": "execute_result"
    }
   ],
   "source": [
    "# Multinomial Naive Bayes Classifier with Count Vectorizer\n",
    "\n",
    "X_train_features, X_test_features = CountVec(X_train, X_test)\n",
    "clf = Pipeline([('vect', CountVectorizer()),\n",
    "                     ('tfidf', TfidfTransformer()),\n",
    "                     ('clf', MultinomialNB(alpha = 0.01)),\n",
    "                     ])\n",
    "clf.fit(X_train, y_train)"
   ]
  },
  {
   "cell_type": "code",
   "execution_count": 13,
   "metadata": {},
   "outputs": [
    {
     "data": {
      "text/plain": [
       "array(['Jewellery', 'Computers', 'Beauty and Personal Care', ...,\n",
       "       'Tools & Hardware', 'Jewellery', 'Home Decor & Festive Needs'],\n",
       "      dtype='<U33')"
      ]
     },
     "execution_count": 13,
     "metadata": {},
     "output_type": "execute_result"
    }
   ],
   "source": [
    "y_pred = clf.predict(X_test)\n",
    "\n",
    "y_pred"
   ]
  },
  {
   "cell_type": "code",
   "execution_count": 14,
   "metadata": {},
   "outputs": [
    {
     "name": "stdout",
     "output_type": "stream",
     "text": [
      "0.9616166751398069\n",
      "                                   precision    recall  f1-score   support\n",
      "\n",
      "                       Automotive       0.95      0.97      0.96       193\n",
      "                        Baby Care       0.97      0.80      0.88       121\n",
      "            Bags, Wallets & Belts       0.89      0.91      0.90        43\n",
      "         Beauty and Personal Care       0.97      0.93      0.95       135\n",
      "            Cameras & Accessories       1.00      0.80      0.89        15\n",
      "                         Clothing       0.97      1.00      0.98      1218\n",
      "                        Computers       0.87      0.89      0.88       126\n",
      "                          Eyewear       1.00      1.00      1.00         1\n",
      "                         Footwear       1.00      0.94      0.97       259\n",
      "                        Furniture       0.97      1.00      0.99        39\n",
      "                           Gaming       0.50      0.70      0.58        10\n",
      "Health & Personal Care Appliances       1.00      0.71      0.83         7\n",
      "                   Home & Kitchen       0.67      0.50      0.57         4\n",
      "       Home Decor & Festive Needs       0.93      0.99      0.96       185\n",
      "               Home Entertainment       1.00      0.67      0.80         3\n",
      "                  Home Furnishing       0.94      0.99      0.97       130\n",
      "                 Home Improvement       0.83      0.94      0.88        16\n",
      "                        Jewellery       0.99      1.00      1.00       669\n",
      "                 Kitchen & Dining       0.98      0.94      0.96       133\n",
      "            Mobiles & Accessories       0.96      0.93      0.95       234\n",
      "                Pens & Stationery       0.94      0.76      0.84        80\n",
      "                     Pet Supplies       1.00      0.78      0.88         9\n",
      "                 Sports & Fitness       0.97      0.88      0.93        43\n",
      "                       Sunglasses       1.00      1.00      1.00        10\n",
      "                 Tools & Hardware       0.99      0.96      0.97        79\n",
      "           Toys & School Supplies       0.79      0.93      0.86        61\n",
      "                          Watches       0.99      0.99      0.99       107\n",
      "                           eBooks       1.00      0.50      0.67         4\n",
      "\n",
      "                         accuracy                           0.96      3934\n",
      "                        macro avg       0.93      0.87      0.89      3934\n",
      "                     weighted avg       0.96      0.96      0.96      3934\n",
      "\n",
      "[[ 187    0    0    0    0    1    0    0    0    0    0    0    0    1\n",
      "     0    2    0    0    0    2    0    0    0    0    0    0    0    0]\n",
      " [   0   97    0    3    0   10    0    0    0    0    0    0    0    5\n",
      "     0    4    0    0    0    0    0    0    1    0    0    1    0    0]\n",
      " [   0    0   39    0    0    2    0    0    1    0    0    0    0    0\n",
      "     0    0    0    0    0    1    0    0    0    0    0    0    0    0]\n",
      " [   1    0    0  126    0    4    1    0    0    1    0    0    0    0\n",
      "     0    0    0    0    1    0    1    0    0    0    0    0    0    0]\n",
      " [   1    0    0    0   12    0    2    0    0    0    0    0    0    0\n",
      "     0    0    0    0    0    0    0    0    0    0    0    0    0    0]\n",
      " [   0    3    0    0    0 1214    0    0    0    0    0    0    0    0\n",
      "     0    0    0    0    0    0    0    0    0    0    0    0    1    0]\n",
      " [   0    0    0    0    0    7  112    0    0    0    2    0    0    0\n",
      "     0    0    0    0    0    5    0    0    0    0    0    0    0    0]\n",
      " [   0    0    0    0    0    0    0    1    0    0    0    0    0    0\n",
      "     0    0    0    0    0    0    0    0    0    0    0    0    0    0]\n",
      " [   0    0    0    1    0   13    0    0  244    0    0    0    0    0\n",
      "     0    0    0    1    0    0    0    0    0    0    0    0    0    0]\n",
      " [   0    0    0    0    0    0    0    0    0   39    0    0    0    0\n",
      "     0    0    0    0    0    0    0    0    0    0    0    0    0    0]\n",
      " [   0    0    0    0    0    0    2    0    0    0    7    0    0    0\n",
      "     0    0    0    0    0    1    0    0    0    0    0    0    0    0]\n",
      " [   1    0    0    0    0    0    0    0    0    0    0    5    0    0\n",
      "     0    0    0    0    0    0    1    0    0    0    0    0    0    0]\n",
      " [   0    0    0    0    0    0    2    0    0    0    0    0    2    0\n",
      "     0    0    0    0    0    0    0    0    0    0    0    0    0    0]\n",
      " [   0    0    0    0    0    0    1    0    0    0    0    0    0  183\n",
      "     0    0    0    1    0    0    0    0    0    0    0    0    0    0]\n",
      " [   0    0    0    0    0    0    0    0    0    0    1    0    0    0\n",
      "     2    0    0    0    0    0    0    0    0    0    0    0    0    0]\n",
      " [   0    0    0    0    0    0    0    0    0    0    0    0    0    0\n",
      "     0  129    0    0    1    0    0    0    0    0    0    0    0    0]\n",
      " [   0    0    0    0    0    0    0    0    0    0    0    0    0    0\n",
      "     0    0   15    0    0    0    0    0    0    0    1    0    0    0]\n",
      " [   0    0    0    0    0    0    0    0    0    0    0    0    0    0\n",
      "     0    0    0  669    0    0    0    0    0    0    0    0    0    0]\n",
      " [   1    0    1    0    0    0    0    0    0    0    0    0    1    2\n",
      "     0    2    0    0  125    0    1    0    0    0    0    0    0    0]\n",
      " [   2    0    1    0    0    0    7    0    0    0    4    0    0    2\n",
      "     0    0    0    0    0  218    0    0    0    0    0    0    0    0]\n",
      " [   1    0    1    0    0    0    1    0    0    0    0    0    0    1\n",
      "     0    0    0    2    0    0   61    0    0    0    0   13    0    0]\n",
      " [   0    0    0    0    0    0    0    0    0    0    0    0    0    0\n",
      "     0    0    2    0    0    0    0    7    0    0    0    0    0    0]\n",
      " [   2    0    1    0    0    1    0    0    0    0    0    0    0    0\n",
      "     0    0    0    0    0    0    0    0   38    0    0    1    0    0]\n",
      " [   0    0    0    0    0    0    0    0    0    0    0    0    0    0\n",
      "     0    0    0    0    0    0    0    0    0   10    0    0    0    0]\n",
      " [   0    0    0    0    0    0    0    0    0    0    0    0    0    1\n",
      "     0    0    1    1    0    0    0    0    0    0   76    0    0    0]\n",
      " [   0    0    1    0    0    0    1    0    0    0    0    0    0    0\n",
      "     0    0    0    0    1    0    1    0    0    0    0   57    0    0]\n",
      " [   0    0    0    0    0    1    0    0    0    0    0    0    0    0\n",
      "     0    0    0    0    0    0    0    0    0    0    0    0  106    0]\n",
      " [   0    0    0    0    0    0    0    0    0    0    0    0    0    1\n",
      "     0    0    0    1    0    0    0    0    0    0    0    0    0    2]]\n"
     ]
    }
   ],
   "source": [
    "print(accuracy_score(y_test, y_pred))\n",
    "print(classification_report(y_test, y_pred))\n",
    "print(confusion_matrix(y_test, y_pred))"
   ]
  },
  {
   "cell_type": "code",
   "execution_count": 55,
   "metadata": {},
   "outputs": [
    {
     "name": "stdout",
     "output_type": "stream",
     "text": [
      "0.9202691860395225\n"
     ]
    }
   ],
   "source": [
    "clf = MultinomialNB(alpha = 1)\n",
    "X_features = CountVectorizer().fit_transform(X)\n",
    "scores = cross_validate(clf, X_features, y, cv=5, return_train_score=False)\n",
    "print(np.mean(scores[\"test_score\"]))"
   ]
  },
  {
   "cell_type": "code",
   "execution_count": 62,
   "metadata": {},
   "outputs": [
    {
     "data": {
      "text/plain": [
       "array(['Beauty and Personal Care', 'Pens & Stationery', 'Clothing', ...,\n",
       "       'Home Decor & Festive Needs', 'Watches', 'Jewellery'], dtype='<U33')"
      ]
     },
     "execution_count": 62,
     "metadata": {},
     "output_type": "execute_result"
    }
   ],
   "source": [
    "y_train_pred = clf.predict(X_train_features)\n",
    "\n",
    "y_train_pred"
   ]
  },
  {
   "cell_type": "code",
   "execution_count": 63,
   "metadata": {
    "collapsed": true
   },
   "outputs": [
    {
     "name": "stdout",
     "output_type": "stream",
     "text": [
      "0.9876048817696415\n",
      "                                   precision    recall  f1-score   support\n",
      "\n",
      "                       Automotive       1.00      0.99      0.99       819\n",
      "                        Baby Care       0.87      0.93      0.90       362\n",
      "            Bags, Wallets & Belts       0.97      1.00      0.98       222\n",
      "         Beauty and Personal Care       1.00      0.99      1.00       575\n",
      "            Cameras & Accessories       1.00      1.00      1.00        67\n",
      "                         Clothing       1.00      0.99      0.99      4979\n",
      "                        Computers       0.99      0.97      0.98       452\n",
      "                          Eyewear       1.00      1.00      1.00         9\n",
      "                         Footwear       1.00      1.00      1.00       968\n",
      "                        Furniture       0.96      1.00      0.98       141\n",
      "                           Gaming       0.83      1.00      0.91        25\n",
      "Health & Personal Care Appliances       1.00      1.00      1.00        36\n",
      "                   Home & Kitchen       0.95      1.00      0.98        20\n",
      "       Home Decor & Festive Needs       0.99      0.99      0.99       744\n",
      "               Home Entertainment       0.57      1.00      0.73        16\n",
      "                  Home Furnishing       0.97      1.00      0.99       569\n",
      "                 Home Improvement       0.97      1.00      0.98        65\n",
      "                        Jewellery       1.00      1.00      1.00      2862\n",
      "                 Kitchen & Dining       1.00      0.98      0.99       514\n",
      "            Mobiles & Accessories       0.99      0.97      0.98       865\n",
      "                Pens & Stationery       0.99      0.83      0.91       233\n",
      "                     Pet Supplies       1.00      1.00      1.00        21\n",
      "                 Sports & Fitness       0.98      0.99      0.99       123\n",
      "                       Sunglasses       1.00      1.00      1.00        30\n",
      "                 Tools & Hardware       1.00      0.99      1.00       312\n",
      "           Toys & School Supplies       0.88      0.99      0.93       269\n",
      "                          Watches       1.00      1.00      1.00       423\n",
      "                           eBooks       1.00      1.00      1.00        11\n",
      "\n",
      "                         accuracy                           0.99     15732\n",
      "                        macro avg       0.96      0.99      0.97     15732\n",
      "                     weighted avg       0.99      0.99      0.99     15732\n",
      "\n",
      "[[ 809    0    0    0    0    0    0    0    0    0    1    0    0    0\n",
      "     1    0    0    0    0    8    0    0    0    0    0    0    0    0]\n",
      " [   0  337    0    1    0    8    0    0    0    0    0    0    0    4\n",
      "     0   11    0    0    1    0    0    0    0    0    0    0    0    0]\n",
      " [   0    0  221    1    0    0    0    0    0    0    0    0    0    0\n",
      "     0    0    0    0    0    0    0    0    0    0    0    0    0    0]\n",
      " [   0    0    0  572    0    0    0    0    0    1    0    0    0    1\n",
      "     0    0    0    1    0    0    0    0    0    0    0    0    0    0]\n",
      " [   0    0    0    0   67    0    0    0    0    0    0    0    0    0\n",
      "     0    0    0    0    0    0    0    0    0    0    0    0    0    0]\n",
      " [   0   49    0    0    0 4924    0    0    1    0    0    0    0    0\n",
      "     0    0    0    4    0    0    0    0    1    0    0    0    0    0]\n",
      " [   0    0    1    0    0   10  437    0    0    0    0    0    0    0\n",
      "     0    0    0    0    0    4    0    0    0    0    0    0    0    0]\n",
      " [   0    0    0    0    0    0    0    9    0    0    0    0    0    0\n",
      "     0    0    0    0    0    0    0    0    0    0    0    0    0    0]\n",
      " [   0    0    0    0    0    2    0    0  966    0    0    0    0    0\n",
      "     0    0    0    0    0    0    0    0    0    0    0    0    0    0]\n",
      " [   0    0    0    0    0    0    0    0    0  141    0    0    0    0\n",
      "     0    0    0    0    0    0    0    0    0    0    0    0    0    0]\n",
      " [   0    0    0    0    0    0    0    0    0    0   25    0    0    0\n",
      "     0    0    0    0    0    0    0    0    0    0    0    0    0    0]\n",
      " [   0    0    0    0    0    0    0    0    0    0    0   36    0    0\n",
      "     0    0    0    0    0    0    0    0    0    0    0    0    0    0]\n",
      " [   0    0    0    0    0    0    0    0    0    0    0    0   20    0\n",
      "     0    0    0    0    0    0    0    0    0    0    0    0    0    0]\n",
      " [   0    2    0    0    0    0    1    0    0    1    0    0    0  738\n",
      "     0    0    0    0    0    0    1    0    0    0    1    0    0    0]\n",
      " [   0    0    0    0    0    0    0    0    0    0    0    0    0    0\n",
      "    16    0    0    0    0    0    0    0    0    0    0    0    0    0]\n",
      " [   0    0    0    0    0    0    0    0    0    0    0    0    0    0\n",
      "     0  569    0    0    0    0    0    0    0    0    0    0    0    0]\n",
      " [   0    0    0    0    0    0    0    0    0    0    0    0    0    0\n",
      "     0    0   65    0    0    0    0    0    0    0    0    0    0    0]\n",
      " [   0    0    0    0    0    0    0    0    0    0    0    0    0    0\n",
      "     0    0    0 2862    0    0    0    0    0    0    0    0    0    0]\n",
      " [   0    0    0    0    0    1    0    0    0    4    0    0    0    0\n",
      "     0    5    0    0  503    0    0    0    1    0    0    0    0    0]\n",
      " [   2    0    0    0    0    0    4    0    0    0    4    0    1    0\n",
      "    11    0    0    0    0  843    0    0    0    0    0    0    0    0]\n",
      " [   0    0    2    0    0    0    0    0    0    0    0    0    0    0\n",
      "     0    0    0    0    0    0  194    0    0    0    0   37    0    0]\n",
      " [   0    0    0    0    0    0    0    0    0    0    0    0    0    0\n",
      "     0    0    0    0    0    0    0   21    0    0    0    0    0    0]\n",
      " [   1    0    0    0    0    0    0    0    0    0    0    0    0    0\n",
      "     0    0    0    0    0    0    0    0  122    0    0    0    0    0]\n",
      " [   0    0    0    0    0    0    0    0    0    0    0    0    0    0\n",
      "     0    0    0    0    0    0    0    0    0   30    0    0    0    0]\n",
      " [   0    0    0    0    0    0    0    0    0    0    0    0    0    0\n",
      "     0    0    2    0    0    0    0    0    0    0  310    0    0    0]\n",
      " [   0    0    3    0    0    0    0    0    0    0    0    0    0    0\n",
      "     0    0    0    0    0    0    0    0    0    0    0  266    0    0]\n",
      " [   0    0    0    0    0    0    0    0    0    0    0    0    0    0\n",
      "     0    0    0    0    0    0    0    0    0    0    0    0  423    0]\n",
      " [   0    0    0    0    0    0    0    0    0    0    0    0    0    0\n",
      "     0    0    0    0    0    0    0    0    0    0    0    0    0   11]]\n"
     ]
    }
   ],
   "source": [
    "print(accuracy_score(y_train, y_train_pred))\n",
    "print(classification_report(y_train, y_train_pred))\n",
    "print(confusion_matrix(y_train, y_train_pred))"
   ]
  },
  {
   "cell_type": "code",
   "execution_count": 31,
   "metadata": {},
   "outputs": [
    {
     "data": {
      "text/plain": [
       "MultinomialNB(alpha=0.001)"
      ]
     },
     "execution_count": 31,
     "metadata": {},
     "output_type": "execute_result"
    }
   ],
   "source": [
    "# Multinomial Naive Bayes Algorithm with Tfidf Vectorizer\n",
    "\n",
    "X_train_features, X_test_features = TFIDF(X_train, X_test)\n",
    "clf = MultinomialNB(alpha = 0.001)\n",
    "clf.fit(X_train_features, y_train)"
   ]
  },
  {
   "cell_type": "code",
   "execution_count": 32,
   "metadata": {},
   "outputs": [
    {
     "data": {
      "text/plain": [
       "array(['Jewellery', 'Computers', 'Beauty and Personal Care', ...,\n",
       "       'Tools & Hardware', 'Jewellery', 'Home Decor & Festive Needs'],\n",
       "      dtype='<U33')"
      ]
     },
     "execution_count": 32,
     "metadata": {},
     "output_type": "execute_result"
    }
   ],
   "source": [
    "y_pred = clf.predict(X_test_features)\n",
    "\n",
    "y_pred"
   ]
  },
  {
   "cell_type": "code",
   "execution_count": 33,
   "metadata": {
    "collapsed": true
   },
   "outputs": [
    {
     "name": "stdout",
     "output_type": "stream",
     "text": [
      "                                   precision    recall  f1-score   support\n",
      "\n",
      "                       Automotive       0.95      0.96      0.95       193\n",
      "                        Baby Care       0.98      0.80      0.88       121\n",
      "            Bags, Wallets & Belts       0.89      0.91      0.90        43\n",
      "         Beauty and Personal Care       0.96      0.93      0.95       135\n",
      "            Cameras & Accessories       1.00      0.87      0.93        15\n",
      "                         Clothing       0.96      1.00      0.98      1218\n",
      "                        Computers       0.88      0.88      0.88       126\n",
      "                          Eyewear       1.00      1.00      1.00         1\n",
      "                         Footwear       1.00      0.91      0.95       259\n",
      "                        Furniture       1.00      1.00      1.00        39\n",
      "                           Gaming       0.57      0.80      0.67        10\n",
      "Health & Personal Care Appliances       1.00      0.86      0.92         7\n",
      "                   Home & Kitchen       0.50      1.00      0.67         4\n",
      "       Home Decor & Festive Needs       0.92      0.98      0.95       185\n",
      "               Home Entertainment       0.50      0.67      0.57         3\n",
      "                  Home Furnishing       0.93      0.99      0.96       130\n",
      "                 Home Improvement       0.88      0.94      0.91        16\n",
      "                        Jewellery       0.99      1.00      1.00       669\n",
      "                 Kitchen & Dining       0.95      0.92      0.94       133\n",
      "            Mobiles & Accessories       0.96      0.93      0.94       234\n",
      "                Pens & Stationery       0.95      0.74      0.83        80\n",
      "                     Pet Supplies       1.00      0.89      0.94         9\n",
      "                 Sports & Fitness       0.95      0.84      0.89        43\n",
      "                       Sunglasses       1.00      1.00      1.00        10\n",
      "                 Tools & Hardware       0.99      0.96      0.97        79\n",
      "           Toys & School Supplies       0.79      0.90      0.84        61\n",
      "                          Watches       0.99      0.99      0.99       107\n",
      "                           eBooks       0.75      0.75      0.75         4\n",
      "\n",
      "                         accuracy                           0.96      3934\n",
      "                        macro avg       0.90      0.91      0.90      3934\n",
      "                     weighted avg       0.96      0.96      0.96      3934\n",
      "\n",
      "[[ 185    0    0    0    0    1    1    0    0    0    0    0    0    1\n",
      "     0    2    0    0    0    2    0    0    1    0    0    0    0    0]\n",
      " [   0   97    1    3    0   10    0    0    0    0    0    0    0    5\n",
      "     0    4    0    0    0    0    0    0    1    0    0    0    0    0]\n",
      " [   0    0   39    0    0    2    0    0    1    0    0    0    0    0\n",
      "     0    0    0    0    0    1    0    0    0    0    0    0    0    0]\n",
      " [   1    0    0  126    0    4    1    0    0    0    0    0    1    0\n",
      "     0    0    0    0    1    0    1    0    0    0    0    0    0    0]\n",
      " [   1    0    0    0   13    0    1    0    0    0    0    0    0    0\n",
      "     0    0    0    0    0    0    0    0    0    0    0    0    0    0]\n",
      " [   0    2    0    0    0 1214    0    0    0    0    0    0    0    0\n",
      "     0    1    0    0    0    0    0    0    0    0    0    0    1    0]\n",
      " [   0    0    0    0    0    7  111    0    0    0    2    0    0    0\n",
      "     0    0    0    0    0    6    0    0    0    0    0    0    0    0]\n",
      " [   0    0    0    0    0    0    0    1    0    0    0    0    0    0\n",
      "     0    0    0    0    0    0    0    0    0    0    0    0    0    0]\n",
      " [   0    0    0    2    0   17    0    0  236    0    0    0    0    1\n",
      "     0    1    0    2    0    0    0    0    0    0    0    0    0    0]\n",
      " [   0    0    0    0    0    0    0    0    0   39    0    0    0    0\n",
      "     0    0    0    0    0    0    0    0    0    0    0    0    0    0]\n",
      " [   0    0    0    0    0    0    1    0    0    0    8    0    0    0\n",
      "     1    0    0    0    0    0    0    0    0    0    0    0    0    0]\n",
      " [   1    0    0    0    0    0    0    0    0    0    0    6    0    0\n",
      "     0    0    0    0    0    0    0    0    0    0    0    0    0    0]\n",
      " [   0    0    0    0    0    0    0    0    0    0    0    0    4    0\n",
      "     0    0    0    0    0    0    0    0    0    0    0    0    0    0]\n",
      " [   0    0    0    0    0    0    1    0    0    0    0    0    1  182\n",
      "     0    0    0    0    1    0    0    0    0    0    0    0    0    0]\n",
      " [   0    0    0    0    0    0    0    0    0    0    1    0    0    0\n",
      "     2    0    0    0    0    0    0    0    0    0    0    0    0    0]\n",
      " [   0    0    0    0    0    0    0    0    0    0    0    0    0    0\n",
      "     0  129    0    0    1    0    0    0    0    0    0    0    0    0]\n",
      " [   0    0    0    0    0    0    0    0    0    0    0    0    0    0\n",
      "     0    0   15    0    0    0    0    0    0    0    1    0    0    0]\n",
      " [   0    0    0    0    0    1    0    0    0    0    0    0    0    0\n",
      "     0    0    0  668    0    0    0    0    0    0    0    0    0    0]\n",
      " [   2    0    1    0    0    0    0    0    0    0    0    0    2    2\n",
      "     0    2    0    0  123    0    1    0    0    0    0    0    0    0]\n",
      " [   2    0    1    0    0    0    8    0    0    0    3    0    0    2\n",
      "     1    0    0    0    0  217    0    0    0    0    0    0    0    0]\n",
      " [   1    0    1    0    0    0    1    0    0    0    0    0    0    2\n",
      "     0    0    0    2    0    0   59    0    0    0    0   14    0    0]\n",
      " [   0    0    0    0    0    0    0    0    0    0    0    0    0    0\n",
      "     0    0    1    0    0    0    0    8    0    0    0    0    0    0]\n",
      " [   2    0    0    0    0    2    0    0    0    0    0    0    0    0\n",
      "     0    0    0    0    1    0    0    0   36    0    0    1    0    1]\n",
      " [   0    0    0    0    0    0    0    0    0    0    0    0    0    0\n",
      "     0    0    0    0    0    0    0    0    0   10    0    0    0    0]\n",
      " [   0    0    0    0    0    0    0    0    0    0    0    0    0    1\n",
      "     0    0    1    1    0    0    0    0    0    0   76    0    0    0]\n",
      " [   0    0    1    0    0    1    1    0    0    0    0    0    0    0\n",
      "     0    0    0    0    2    0    1    0    0    0    0   55    0    0]\n",
      " [   0    0    0    0    0    1    0    0    0    0    0    0    0    0\n",
      "     0    0    0    0    0    0    0    0    0    0    0    0  106    0]\n",
      " [   0    0    0    0    0    0    0    0    0    0    0    0    0    1\n",
      "     0    0    0    0    0    0    0    0    0    0    0    0    0    3]]\n"
     ]
    }
   ],
   "source": [
    "print(classification_report(y_test, y_pred))\n",
    "print(confusion_matrix(y_test, y_pred))"
   ]
  },
  {
   "cell_type": "code",
   "execution_count": 42,
   "metadata": {},
   "outputs": [
    {
     "data": {
      "text/plain": [
       "array(['Beauty and Personal Care', 'Pens & Stationery', 'Clothing', ...,\n",
       "       'Home Decor & Festive Needs', 'Watches', 'Jewellery'], dtype='<U33')"
      ]
     },
     "execution_count": 42,
     "metadata": {},
     "output_type": "execute_result"
    }
   ],
   "source": [
    "y_train_pred = clf.predict(X_train_features)\n",
    "\n",
    "y_train_pred"
   ]
  },
  {
   "cell_type": "code",
   "execution_count": 43,
   "metadata": {
    "collapsed": true
   },
   "outputs": [
    {
     "name": "stdout",
     "output_type": "stream",
     "text": [
      "                                   precision    recall  f1-score   support\n",
      "\n",
      "                       Automotive       1.00      0.99      0.99       819\n",
      "                        Baby Care       0.90      0.95      0.92       362\n",
      "            Bags, Wallets & Belts       0.98      1.00      0.99       222\n",
      "         Beauty and Personal Care       1.00      1.00      1.00       575\n",
      "            Cameras & Accessories       1.00      1.00      1.00        67\n",
      "                         Clothing       1.00      0.99      0.99      4979\n",
      "                        Computers       0.99      0.97      0.98       452\n",
      "                          Eyewear       1.00      1.00      1.00         9\n",
      "                         Footwear       1.00      1.00      1.00       968\n",
      "                        Furniture       0.97      1.00      0.98       141\n",
      "                           Gaming       0.86      1.00      0.93        25\n",
      "Health & Personal Care Appliances       1.00      1.00      1.00        36\n",
      "                   Home & Kitchen       1.00      1.00      1.00        20\n",
      "       Home Decor & Festive Needs       0.99      0.99      0.99       744\n",
      "               Home Entertainment       0.59      1.00      0.74        16\n",
      "                  Home Furnishing       0.98      1.00      0.99       569\n",
      "                 Home Improvement       1.00      1.00      1.00        65\n",
      "                        Jewellery       1.00      1.00      1.00      2862\n",
      "                 Kitchen & Dining       1.00      0.98      0.99       514\n",
      "            Mobiles & Accessories       0.99      0.98      0.98       865\n",
      "                Pens & Stationery       0.99      0.85      0.92       233\n",
      "                     Pet Supplies       1.00      1.00      1.00        21\n",
      "                 Sports & Fitness       0.98      0.99      0.98       123\n",
      "                       Sunglasses       1.00      1.00      1.00        30\n",
      "                 Tools & Hardware       1.00      1.00      1.00       312\n",
      "           Toys & School Supplies       0.89      0.99      0.94       269\n",
      "                          Watches       1.00      1.00      1.00       423\n",
      "                           eBooks       1.00      1.00      1.00        11\n",
      "\n",
      "                         accuracy                           0.99     15732\n",
      "                        macro avg       0.97      0.99      0.98     15732\n",
      "                     weighted avg       0.99      0.99      0.99     15732\n",
      "\n",
      "[[ 812    0    0    0    0    0    0    0    0    0    1    0    0    0\n",
      "     0    0    0    0    0    6    0    0    0    0    0    0    0    0]\n",
      " [   0  343    0    0    0    7    0    0    0    0    0    0    0    4\n",
      "     0    7    0    0    1    0    0    0    0    0    0    0    0    0]\n",
      " [   0    0  221    1    0    0    0    0    0    0    0    0    0    0\n",
      "     0    0    0    0    0    0    0    0    0    0    0    0    0    0]\n",
      " [   0    0    0  574    0    0    0    0    0    1    0    0    0    0\n",
      "     0    0    0    0    0    0    0    0    0    0    0    0    0    0]\n",
      " [   0    0    0    0   67    0    0    0    0    0    0    0    0    0\n",
      "     0    0    0    0    0    0    0    0    0    0    0    0    0    0]\n",
      " [   0   35    0    0    0 4938    0    0    1    0    0    0    0    0\n",
      "     0    0    0    4    0    0    0    0    1    0    0    0    0    0]\n",
      " [   0    0    1    0    0   10  437    0    0    0    0    0    0    0\n",
      "     0    0    0    0    0    4    0    0    0    0    0    0    0    0]\n",
      " [   0    0    0    0    0    0    0    9    0    0    0    0    0    0\n",
      "     0    0    0    0    0    0    0    0    0    0    0    0    0    0]\n",
      " [   0    0    0    0    0    2    0    0  965    0    0    0    0    0\n",
      "     0    0    0    0    0    0    0    0    1    0    0    0    0    0]\n",
      " [   0    0    0    0    0    0    0    0    0  141    0    0    0    0\n",
      "     0    0    0    0    0    0    0    0    0    0    0    0    0    0]\n",
      " [   0    0    0    0    0    0    0    0    0    0   25    0    0    0\n",
      "     0    0    0    0    0    0    0    0    0    0    0    0    0    0]\n",
      " [   0    0    0    0    0    0    0    0    0    0    0   36    0    0\n",
      "     0    0    0    0    0    0    0    0    0    0    0    0    0    0]\n",
      " [   0    0    0    0    0    0    0    0    0    0    0    0   20    0\n",
      "     0    0    0    0    0    0    0    0    0    0    0    0    0    0]\n",
      " [   0    2    0    0    0    0    1    0    0    0    0    0    0  739\n",
      "     0    0    0    0    0    0    1    0    0    0    1    0    0    0]\n",
      " [   0    0    0    0    0    0    0    0    0    0    0    0    0    0\n",
      "    16    0    0    0    0    0    0    0    0    0    0    0    0    0]\n",
      " [   0    0    0    0    0    0    0    0    0    0    0    0    0    0\n",
      "     0  569    0    0    0    0    0    0    0    0    0    0    0    0]\n",
      " [   0    0    0    0    0    0    0    0    0    0    0    0    0    0\n",
      "     0    0   65    0    0    0    0    0    0    0    0    0    0    0]\n",
      " [   0    0    0    0    0    0    0    0    0    0    0    0    0    0\n",
      "     0    0    0 2862    0    0    0    0    0    0    0    0    0    0]\n",
      " [   0    0    0    0    0    1    0    0    0    4    0    0    0    0\n",
      "     0    5    0    0  503    0    0    0    1    0    0    0    0    0]\n",
      " [   2    0    0    0    0    0    3    0    0    0    3    0    0    0\n",
      "    11    0    0    0    0  846    0    0    0    0    0    0    0    0]\n",
      " [   0    0    1    0    0    0    0    0    0    0    0    0    0    0\n",
      "     0    0    0    0    0    0  199    0    0    0    0   33    0    0]\n",
      " [   0    0    0    0    0    0    0    0    0    0    0    0    0    0\n",
      "     0    0    0    0    0    0    0   21    0    0    0    0    0    0]\n",
      " [   1    0    0    0    0    0    0    0    0    0    0    0    0    0\n",
      "     0    0    0    0    0    0    0    0  122    0    0    0    0    0]\n",
      " [   0    0    0    0    0    0    0    0    0    0    0    0    0    0\n",
      "     0    0    0    0    0    0    0    0    0   30    0    0    0    0]\n",
      " [   0    0    0    0    0    0    0    0    0    0    0    0    0    0\n",
      "     0    0    0    0    0    0    0    0    0    0  312    0    0    0]\n",
      " [   0    0    3    0    0    0    0    0    0    0    0    0    0    0\n",
      "     0    0    0    0    0    0    0    0    0    0    0  266    0    0]\n",
      " [   0    0    0    0    0    0    0    0    0    0    0    0    0    0\n",
      "     0    0    0    0    0    0    0    0    0    0    0    0  423    0]\n",
      " [   0    0    0    0    0    0    0    0    0    0    0    0    0    0\n",
      "     0    0    0    0    0    0    0    0    0    0    0    0    0   11]]\n"
     ]
    }
   ],
   "source": [
    "print(classification_report(y_train, y_train_pred))\n",
    "print(confusion_matrix(y_train, y_train_pred))"
   ]
  },
  {
   "cell_type": "code",
   "execution_count": 44,
   "metadata": {},
   "outputs": [
    {
     "data": {
      "text/plain": [
       "Pipeline(steps=[('vect', CountVectorizer()), ('tfidf', TfidfTransformer()),\n",
       "                ('clf', GradientBoostingClassifier())])"
      ]
     },
     "execution_count": 44,
     "metadata": {},
     "output_type": "execute_result"
    }
   ],
   "source": [
    "# GradientBoostingClassifier Algorithm \n",
    "\n",
    "text_clf = Pipeline([('vect', CountVectorizer()),\n",
    "                     ('tfidf', TfidfTransformer()),\n",
    "                     ('clf', GradientBoostingClassifier(n_estimators=100)),\n",
    "                     ])\n",
    "\n",
    "text_clf.fit(X_train, y_train)"
   ]
  },
  {
   "cell_type": "code",
   "execution_count": 45,
   "metadata": {},
   "outputs": [
    {
     "data": {
      "text/plain": [
       "array(['Jewellery', 'Computers', 'Beauty and Personal Care', ...,\n",
       "       'Tools & Hardware', 'Jewellery', 'Home Decor & Festive Needs'],\n",
       "      dtype=object)"
      ]
     },
     "execution_count": 45,
     "metadata": {},
     "output_type": "execute_result"
    }
   ],
   "source": [
    "y_pred = text_clf.predict(X_test)\n",
    "\n",
    "y_pred"
   ]
  },
  {
   "cell_type": "code",
   "execution_count": 46,
   "metadata": {
    "collapsed": true
   },
   "outputs": [
    {
     "name": "stdout",
     "output_type": "stream",
     "text": [
      "                                   precision    recall  f1-score   support\n",
      "\n",
      "                       Automotive       0.97      0.98      0.98       193\n",
      "                        Baby Care       0.95      0.85      0.90       121\n",
      "            Bags, Wallets & Belts       0.98      0.93      0.95        43\n",
      "         Beauty and Personal Care       0.96      0.93      0.95       135\n",
      "            Cameras & Accessories       1.00      0.93      0.97        15\n",
      "                         Clothing       0.96      0.99      0.98      1218\n",
      "                        Computers       0.97      0.84      0.90       126\n",
      "                          Eyewear       0.33      1.00      0.50         1\n",
      "                         Footwear       1.00      0.98      0.99       259\n",
      "                        Furniture       0.97      0.97      0.97        39\n",
      "                           Gaming       0.67      0.80      0.73        10\n",
      "Health & Personal Care Appliances       0.83      0.71      0.77         7\n",
      "                   Home & Kitchen       0.50      0.25      0.33         4\n",
      "       Home Decor & Festive Needs       0.97      0.96      0.96       185\n",
      "               Home Entertainment       0.40      0.67      0.50         3\n",
      "                  Home Furnishing       0.98      0.97      0.98       130\n",
      "                 Home Improvement       0.88      0.94      0.91        16\n",
      "                        Jewellery       0.98      1.00      0.99       669\n",
      "                 Kitchen & Dining       0.95      0.95      0.95       133\n",
      "            Mobiles & Accessories       0.94      0.97      0.95       234\n",
      "                Pens & Stationery       0.90      0.69      0.78        80\n",
      "                     Pet Supplies       0.75      1.00      0.86         9\n",
      "                 Sports & Fitness       0.91      0.70      0.79        43\n",
      "                       Sunglasses       0.90      0.90      0.90        10\n",
      "                 Tools & Hardware       0.99      0.96      0.97        79\n",
      "           Toys & School Supplies       0.74      0.84      0.78        61\n",
      "                          Watches       1.00      1.00      1.00       107\n",
      "                           eBooks       0.00      0.00      0.00         4\n",
      "\n",
      "                         accuracy                           0.96      3934\n",
      "                        macro avg       0.84      0.85      0.83      3934\n",
      "                     weighted avg       0.96      0.96      0.96      3934\n",
      "\n",
      "[[ 190    0    0    1    0    2    0    0    0    0    0    0    0    0\n",
      "     0    0    0    0    0    0    0    0    0    0    0    0    0    0]\n",
      " [   0  103    0    3    0    7    0    1    0    0    0    0    0    2\n",
      "     0    1    0    0    1    0    0    1    0    0    0    2    0    0]\n",
      " [   0    0   40    0    0    1    0    0    0    0    0    0    0    0\n",
      "     0    0    0    0    0    1    1    0    0    0    0    0    0    0]\n",
      " [   0    0    0  126    0    4    0    0    0    0    0    1    0    0\n",
      "     0    0    0    1    2    0    0    0    0    0    0    1    0    0]\n",
      " [   0    0    0    0   14    1    0    0    0    0    0    0    0    0\n",
      "     0    0    0    0    0    0    0    0    0    0    0    0    0    0]\n",
      " [   0    4    0    0    0 1211    0    0    0    0    0    0    0    0\n",
      "     0    0    0    0    0    0    0    0    2    0    1    0    0    0]\n",
      " [   0    0    1    0    0   10  106    0    0    0    2    0    1    0\n",
      "     0    0    1    1    0    4    0    0    0    0    0    0    0    0]\n",
      " [   0    0    0    0    0    0    0    1    0    0    0    0    0    0\n",
      "     0    0    0    0    0    0    0    0    0    0    0    0    0    0]\n",
      " [   0    0    0    0    0    4    0    0  254    0    0    0    0    0\n",
      "     0    0    0    0    0    0    0    0    1    0    0    0    0    0]\n",
      " [   0    0    0    0    0    0    0    0    0   38    0    0    0    0\n",
      "     0    0    0    0    1    0    0    0    0    0    0    0    0    0]\n",
      " [   0    0    0    0    0    0    0    0    0    0    8    0    0    0\n",
      "     0    0    0    0    0    2    0    0    0    0    0    0    0    0]\n",
      " [   1    0    0    0    0    1    0    0    0    0    0    5    0    0\n",
      "     0    0    0    0    0    0    0    0    0    0    0    0    0    0]\n",
      " [   0    0    0    0    0    1    0    0    0    0    0    0    1    0\n",
      "     0    0    0    1    0    1    0    0    0    0    0    0    0    0]\n",
      " [   1    1    0    0    0    2    0    0    0    0    0    0    0  177\n",
      "     0    0    0    3    1    0    0    0    0    0    0    0    0    0]\n",
      " [   0    0    0    0    0    0    0    0    0    0    1    0    0    0\n",
      "     2    0    0    0    0    0    0    0    0    0    0    0    0    0]\n",
      " [   0    0    0    0    0    1    0    0    0    1    0    0    0    0\n",
      "     0  126    0    1    0    0    1    0    0    0    0    0    0    0]\n",
      " [   0    0    0    0    0    1    0    0    0    0    0    0    0    0\n",
      "     0    0   15    0    0    0    0    0    0    0    0    0    0    0]\n",
      " [   0    0    0    1    0    0    0    0    0    0    0    0    0    0\n",
      "     0    0    1  667    0    0    0    0    0    0    0    0    0    0]\n",
      " [   1    0    0    0    0    0    0    0    0    0    0    0    0    1\n",
      "     0    0    0    1  126    1    0    2    0    0    0    1    0    0]\n",
      " [   0    0    0    0    0    1    2    0    0    0    1    0    0    0\n",
      "     1    0    0    0    0  227    0    0    0    0    0    1    0    1]\n",
      " [   0    0    0    0    0    1    0    0    0    0    0    0    0    1\n",
      "     0    0    0    4    1    5   55    0    0    0    0   13    0    0]\n",
      " [   0    0    0    0    0    0    0    0    0    0    0    0    0    0\n",
      "     0    0    0    0    0    0    0    9    0    0    0    0    0    0]\n",
      " [   0    0    0    0    0   10    0    0    0    0    0    0    0    0\n",
      "     0    0    0    1    0    0    1    0   30    1    0    0    0    0]\n",
      " [   0    0    0    0    0    0    0    1    0    0    0    0    0    0\n",
      "     0    0    0    0    0    0    0    0    0    9    0    0    0    0]\n",
      " [   1    0    0    0    0    0    0    0    0    0    0    0    0    1\n",
      "     0    1    0    0    0    0    0    0    0    0   76    0    0    0]\n",
      " [   2    0    0    0    0    1    1    0    0    0    0    0    0    0\n",
      "     2    0    0    0    1    0    3    0    0    0    0   51    0    0]\n",
      " [   0    0    0    0    0    0    0    0    0    0    0    0    0    0\n",
      "     0    0    0    0    0    0    0    0    0    0    0    0  107    0]\n",
      " [   0    0    0    0    0    3    0    0    0    0    0    0    0    0\n",
      "     0    0    0    0    0    1    0    0    0    0    0    0    0    0]]\n"
     ]
    }
   ],
   "source": [
    "print(classification_report(y_test, y_pred))\n",
    "print(confusion_matrix(y_test, y_pred))"
   ]
  },
  {
   "cell_type": "code",
   "execution_count": 47,
   "metadata": {},
   "outputs": [
    {
     "data": {
      "text/plain": [
       "Pipeline(steps=[('vect', CountVectorizer()), ('tfidf', TfidfTransformer()),\n",
       "                ('clf', KNeighborsClassifier())])"
      ]
     },
     "execution_count": 47,
     "metadata": {},
     "output_type": "execute_result"
    }
   ],
   "source": [
    "text_clf = Pipeline([('vect', CountVectorizer()),\n",
    "                     ('tfidf', TfidfTransformer()),\n",
    "                     ('clf', KNeighborsClassifier()),\n",
    "                     ])\n",
    "\n",
    "text_clf.fit(X_train, y_train)"
   ]
  },
  {
   "cell_type": "code",
   "execution_count": 48,
   "metadata": {},
   "outputs": [
    {
     "data": {
      "text/plain": [
       "array(['Jewellery', 'Computers', 'Computers', ..., 'Tools & Hardware',\n",
       "       'Jewellery', 'Home Decor & Festive Needs'], dtype=object)"
      ]
     },
     "execution_count": 48,
     "metadata": {},
     "output_type": "execute_result"
    }
   ],
   "source": [
    "y_pred = text_clf.predict(X_test)\n",
    "\n",
    "y_pred"
   ]
  },
  {
   "cell_type": "code",
   "execution_count": 49,
   "metadata": {
    "collapsed": true
   },
   "outputs": [
    {
     "name": "stdout",
     "output_type": "stream",
     "text": [
      "                                   precision    recall  f1-score   support\n",
      "\n",
      "                       Automotive       1.00      0.85      0.92       193\n",
      "                        Baby Care       0.94      0.72      0.81       121\n",
      "            Bags, Wallets & Belts       0.94      0.72      0.82        43\n",
      "         Beauty and Personal Care       1.00      0.61      0.76       135\n",
      "            Cameras & Accessories       0.93      0.87      0.90        15\n",
      "                         Clothing       0.99      0.79      0.88      1218\n",
      "                        Computers       0.12      0.97      0.21       126\n",
      "                          Eyewear       1.00      1.00      1.00         1\n",
      "                         Footwear       0.99      0.68      0.81       259\n",
      "                        Furniture       1.00      0.90      0.95        39\n",
      "                           Gaming       0.50      0.50      0.50        10\n",
      "Health & Personal Care Appliances       1.00      0.57      0.73         7\n",
      "                   Home & Kitchen       0.00      0.00      0.00         4\n",
      "       Home Decor & Festive Needs       0.96      0.53      0.68       185\n",
      "               Home Entertainment       0.00      0.00      0.00         3\n",
      "                  Home Furnishing       0.95      0.76      0.85       130\n",
      "                 Home Improvement       1.00      0.56      0.72        16\n",
      "                        Jewellery       1.00      0.80      0.89       669\n",
      "                 Kitchen & Dining       0.97      0.68      0.80       133\n",
      "            Mobiles & Accessories       0.98      0.82      0.90       234\n",
      "                Pens & Stationery       0.95      0.49      0.64        80\n",
      "                     Pet Supplies       0.86      0.67      0.75         9\n",
      "                 Sports & Fitness       1.00      0.28      0.44        43\n",
      "                       Sunglasses       1.00      0.80      0.89        10\n",
      "                 Tools & Hardware       1.00      0.82      0.90        79\n",
      "           Toys & School Supplies       0.86      0.49      0.62        61\n",
      "                          Watches       1.00      0.91      0.95       107\n",
      "                           eBooks       0.00      0.00      0.00         4\n",
      "\n",
      "                         accuracy                           0.75      3934\n",
      "                        macro avg       0.82      0.64      0.69      3934\n",
      "                     weighted avg       0.95      0.75      0.82      3934\n",
      "\n",
      "[[165   0   0   0   0   0  28   0   0   0   0   0   0   0   0   0   0   0\n",
      "    0   0   0   0   0   0   0   0   0   0]\n",
      " [  0  87   0   0   0   7  21   0   0   0   0   0   0   3   0   3   0   0\n",
      "    0   0   0   0   0   0   0   0   0   0]\n",
      " [  0   0  31   0   0   0  12   0   0   0   0   0   0   0   0   0   0   0\n",
      "    0   0   0   0   0   0   0   0   0   0]\n",
      " [  0   0   0  83   0   0  51   0   0   0   0   0   0   0   0   0   0   1\n",
      "    0   0   0   0   0   0   0   0   0   0]\n",
      " [  0   0   0   0  13   0   2   0   0   0   0   0   0   0   0   0   0   0\n",
      "    0   0   0   0   0   0   0   0   0   0]\n",
      " [  0   4   0   0   0 963 250   0   1   0   0   0   0   0   0   0   0   0\n",
      "    0   0   0   0   0   0   0   0   0   0]\n",
      " [  0   0   0   0   0   0 122   0   0   0   2   0   0   0   0   0   0   0\n",
      "    0   2   0   0   0   0   0   0   0   0]\n",
      " [  0   0   0   0   0   0   0   1   0   0   0   0   0   0   0   0   0   0\n",
      "    0   0   0   0   0   0   0   0   0   0]\n",
      " [  0   0   0   0   0   3  80   0 176   0   0   0   0   0   0   0   0   0\n",
      "    0   0   0   0   0   0   0   0   0   0]\n",
      " [  0   0   0   0   0   0   3   0   0  35   0   0   0   0   0   0   0   0\n",
      "    1   0   0   0   0   0   0   0   0   0]\n",
      " [  0   0   0   0   0   0   4   0   0   0   5   0   0   0   0   0   0   0\n",
      "    0   1   0   0   0   0   0   0   0   0]\n",
      " [  0   0   0   0   0   0   3   0   0   0   0   4   0   0   0   0   0   0\n",
      "    0   0   0   0   0   0   0   0   0   0]\n",
      " [  0   0   0   0   0   0   4   0   0   0   0   0   0   0   0   0   0   0\n",
      "    0   0   0   0   0   0   0   0   0   0]\n",
      " [  0   1   0   0   0   0  86   0   0   0   0   0   0  98   0   0   0   0\n",
      "    0   0   0   0   0   0   0   0   0   0]\n",
      " [  0   0   0   0   0   0   2   0   0   0   0   0   0   0   0   0   0   0\n",
      "    0   1   0   0   0   0   0   0   0   0]\n",
      " [  0   1   0   0   0   0  30   0   0   0   0   0   0   0   0  99   0   0\n",
      "    0   0   0   0   0   0   0   0   0   0]\n",
      " [  0   0   0   0   0   0   7   0   0   0   0   0   0   0   0   0   9   0\n",
      "    0   0   0   0   0   0   0   0   0   0]\n",
      " [  0   0   1   0   0   0 135   0   0   0   0   0   0   0   0   0   0 533\n",
      "    0   0   0   0   0   0   0   0   0   0]\n",
      " [  0   0   0   0   0   0  40   0   0   0   0   0   0   0   0   2   0   0\n",
      "   90   0   0   1   0   0   0   0   0   0]\n",
      " [  0   0   0   0   1   0  37   0   0   0   3   0   0   0   0   0   0   0\n",
      "    0 193   0   0   0   0   0   0   0   0]\n",
      " [  0   0   0   0   0   0  35   0   0   0   0   0   0   1   0   0   0   0\n",
      "    0   0  39   0   0   0   0   5   0   0]\n",
      " [  0   0   0   0   0   0   3   0   0   0   0   0   0   0   0   0   0   0\n",
      "    0   0   0   6   0   0   0   0   0   0]\n",
      " [  0   0   0   0   0   0  31   0   0   0   0   0   0   0   0   0   0   0\n",
      "    0   0   0   0  12   0   0   0   0   0]\n",
      " [  0   0   0   0   0   0   2   0   0   0   0   0   0   0   0   0   0   0\n",
      "    0   0   0   0   0   8   0   0   0   0]\n",
      " [  0   0   0   0   0   0  14   0   0   0   0   0   0   0   0   0   0   0\n",
      "    0   0   0   0   0   0  65   0   0   0]\n",
      " [  0   0   1   0   0   0  26   0   0   0   0   0   0   0   0   0   0   0\n",
      "    2   0   2   0   0   0   0  30   0   0]\n",
      " [  0   0   0   0   0   0  10   0   0   0   0   0   0   0   0   0   0   0\n",
      "    0   0   0   0   0   0   0   0  97   0]\n",
      " [  0   0   0   0   0   0   3   0   0   0   0   0   0   0   0   0   0   1\n",
      "    0   0   0   0   0   0   0   0   0   0]]\n"
     ]
    },
    {
     "name": "stderr",
     "output_type": "stream",
     "text": [
      "C:\\Users\\kusha\\anaconda3\\lib\\site-packages\\sklearn\\metrics\\_classification.py:1221: UndefinedMetricWarning: Precision and F-score are ill-defined and being set to 0.0 in labels with no predicted samples. Use `zero_division` parameter to control this behavior.\n",
      "  _warn_prf(average, modifier, msg_start, len(result))\n"
     ]
    }
   ],
   "source": [
    "print(classification_report(y_test, y_pred))\n",
    "print(confusion_matrix(y_test, y_pred))"
   ]
  },
  {
   "cell_type": "code",
   "execution_count": 50,
   "metadata": {
    "collapsed": true
   },
   "outputs": [
    {
     "data": {
      "text/plain": [
       "matrix([[0, 0, 0, ..., 0, 0, 0],\n",
       "        [0, 0, 0, ..., 0, 0, 0],\n",
       "        [0, 0, 0, ..., 0, 0, 0],\n",
       "        ...,\n",
       "        [0, 0, 0, ..., 0, 0, 0],\n",
       "        [0, 0, 0, ..., 0, 0, 0],\n",
       "        [0, 0, 0, ..., 0, 0, 0]], dtype=int64)"
      ]
     },
     "execution_count": 50,
     "metadata": {},
     "output_type": "execute_result"
    }
   ],
   "source": [
    "count_vec = CountVectorizer()\n",
    "\n",
    "X_train_features = count_vec.fit_transform(X_train)\n",
    "\n",
    "X_train_features.todense()"
   ]
  },
  {
   "cell_type": "code",
   "execution_count": 51,
   "metadata": {},
   "outputs": [
    {
     "data": {
      "text/plain": [
       "<3934x13595 sparse matrix of type '<class 'numpy.int64'>'\n",
       "\twith 82664 stored elements in Compressed Sparse Row format>"
      ]
     },
     "execution_count": 51,
     "metadata": {},
     "output_type": "execute_result"
    }
   ],
   "source": [
    "X_test_features = count_vec.transform(X_test)\n",
    "\n",
    "X_test_features"
   ]
  },
  {
   "cell_type": "code",
   "execution_count": 52,
   "metadata": {},
   "outputs": [
    {
     "data": {
      "text/plain": [
       "BernoulliNB()"
      ]
     },
     "execution_count": 52,
     "metadata": {},
     "output_type": "execute_result"
    }
   ],
   "source": [
    "clf = BernoulliNB()\n",
    "clf.fit(X_train_features, y_train)"
   ]
  },
  {
   "cell_type": "code",
   "execution_count": 53,
   "metadata": {},
   "outputs": [
    {
     "data": {
      "text/plain": [
       "array(['Jewellery', 'Computers', 'Computers', ..., 'Tools & Hardware',\n",
       "       'Jewellery', 'Home Decor & Festive Needs'], dtype=object)"
      ]
     },
     "execution_count": 53,
     "metadata": {},
     "output_type": "execute_result"
    }
   ],
   "source": [
    "y_pred = text_clf.predict(X_test)\n",
    "\n",
    "y_pred"
   ]
  },
  {
   "cell_type": "code",
   "execution_count": 54,
   "metadata": {
    "collapsed": true
   },
   "outputs": [
    {
     "name": "stderr",
     "output_type": "stream",
     "text": [
      "C:\\Users\\kusha\\anaconda3\\lib\\site-packages\\sklearn\\metrics\\_classification.py:1221: UndefinedMetricWarning: Precision and F-score are ill-defined and being set to 0.0 in labels with no predicted samples. Use `zero_division` parameter to control this behavior.\n",
      "  _warn_prf(average, modifier, msg_start, len(result))\n"
     ]
    },
    {
     "name": "stdout",
     "output_type": "stream",
     "text": [
      "                                   precision    recall  f1-score   support\n",
      "\n",
      "                       Automotive       1.00      0.85      0.92       193\n",
      "                        Baby Care       0.94      0.72      0.81       121\n",
      "            Bags, Wallets & Belts       0.94      0.72      0.82        43\n",
      "         Beauty and Personal Care       1.00      0.61      0.76       135\n",
      "            Cameras & Accessories       0.93      0.87      0.90        15\n",
      "                         Clothing       0.99      0.79      0.88      1218\n",
      "                        Computers       0.12      0.97      0.21       126\n",
      "                          Eyewear       1.00      1.00      1.00         1\n",
      "                         Footwear       0.99      0.68      0.81       259\n",
      "                        Furniture       1.00      0.90      0.95        39\n",
      "                           Gaming       0.50      0.50      0.50        10\n",
      "Health & Personal Care Appliances       1.00      0.57      0.73         7\n",
      "                   Home & Kitchen       0.00      0.00      0.00         4\n",
      "       Home Decor & Festive Needs       0.96      0.53      0.68       185\n",
      "               Home Entertainment       0.00      0.00      0.00         3\n",
      "                  Home Furnishing       0.95      0.76      0.85       130\n",
      "                 Home Improvement       1.00      0.56      0.72        16\n",
      "                        Jewellery       1.00      0.80      0.89       669\n",
      "                 Kitchen & Dining       0.97      0.68      0.80       133\n",
      "            Mobiles & Accessories       0.98      0.82      0.90       234\n",
      "                Pens & Stationery       0.95      0.49      0.64        80\n",
      "                     Pet Supplies       0.86      0.67      0.75         9\n",
      "                 Sports & Fitness       1.00      0.28      0.44        43\n",
      "                       Sunglasses       1.00      0.80      0.89        10\n",
      "                 Tools & Hardware       1.00      0.82      0.90        79\n",
      "           Toys & School Supplies       0.86      0.49      0.62        61\n",
      "                          Watches       1.00      0.91      0.95       107\n",
      "                           eBooks       0.00      0.00      0.00         4\n",
      "\n",
      "                         accuracy                           0.75      3934\n",
      "                        macro avg       0.82      0.64      0.69      3934\n",
      "                     weighted avg       0.95      0.75      0.82      3934\n",
      "\n",
      "[[165   0   0   0   0   0  28   0   0   0   0   0   0   0   0   0   0   0\n",
      "    0   0   0   0   0   0   0   0   0   0]\n",
      " [  0  87   0   0   0   7  21   0   0   0   0   0   0   3   0   3   0   0\n",
      "    0   0   0   0   0   0   0   0   0   0]\n",
      " [  0   0  31   0   0   0  12   0   0   0   0   0   0   0   0   0   0   0\n",
      "    0   0   0   0   0   0   0   0   0   0]\n",
      " [  0   0   0  83   0   0  51   0   0   0   0   0   0   0   0   0   0   1\n",
      "    0   0   0   0   0   0   0   0   0   0]\n",
      " [  0   0   0   0  13   0   2   0   0   0   0   0   0   0   0   0   0   0\n",
      "    0   0   0   0   0   0   0   0   0   0]\n",
      " [  0   4   0   0   0 963 250   0   1   0   0   0   0   0   0   0   0   0\n",
      "    0   0   0   0   0   0   0   0   0   0]\n",
      " [  0   0   0   0   0   0 122   0   0   0   2   0   0   0   0   0   0   0\n",
      "    0   2   0   0   0   0   0   0   0   0]\n",
      " [  0   0   0   0   0   0   0   1   0   0   0   0   0   0   0   0   0   0\n",
      "    0   0   0   0   0   0   0   0   0   0]\n",
      " [  0   0   0   0   0   3  80   0 176   0   0   0   0   0   0   0   0   0\n",
      "    0   0   0   0   0   0   0   0   0   0]\n",
      " [  0   0   0   0   0   0   3   0   0  35   0   0   0   0   0   0   0   0\n",
      "    1   0   0   0   0   0   0   0   0   0]\n",
      " [  0   0   0   0   0   0   4   0   0   0   5   0   0   0   0   0   0   0\n",
      "    0   1   0   0   0   0   0   0   0   0]\n",
      " [  0   0   0   0   0   0   3   0   0   0   0   4   0   0   0   0   0   0\n",
      "    0   0   0   0   0   0   0   0   0   0]\n",
      " [  0   0   0   0   0   0   4   0   0   0   0   0   0   0   0   0   0   0\n",
      "    0   0   0   0   0   0   0   0   0   0]\n",
      " [  0   1   0   0   0   0  86   0   0   0   0   0   0  98   0   0   0   0\n",
      "    0   0   0   0   0   0   0   0   0   0]\n",
      " [  0   0   0   0   0   0   2   0   0   0   0   0   0   0   0   0   0   0\n",
      "    0   1   0   0   0   0   0   0   0   0]\n",
      " [  0   1   0   0   0   0  30   0   0   0   0   0   0   0   0  99   0   0\n",
      "    0   0   0   0   0   0   0   0   0   0]\n",
      " [  0   0   0   0   0   0   7   0   0   0   0   0   0   0   0   0   9   0\n",
      "    0   0   0   0   0   0   0   0   0   0]\n",
      " [  0   0   1   0   0   0 135   0   0   0   0   0   0   0   0   0   0 533\n",
      "    0   0   0   0   0   0   0   0   0   0]\n",
      " [  0   0   0   0   0   0  40   0   0   0   0   0   0   0   0   2   0   0\n",
      "   90   0   0   1   0   0   0   0   0   0]\n",
      " [  0   0   0   0   1   0  37   0   0   0   3   0   0   0   0   0   0   0\n",
      "    0 193   0   0   0   0   0   0   0   0]\n",
      " [  0   0   0   0   0   0  35   0   0   0   0   0   0   1   0   0   0   0\n",
      "    0   0  39   0   0   0   0   5   0   0]\n",
      " [  0   0   0   0   0   0   3   0   0   0   0   0   0   0   0   0   0   0\n",
      "    0   0   0   6   0   0   0   0   0   0]\n",
      " [  0   0   0   0   0   0  31   0   0   0   0   0   0   0   0   0   0   0\n",
      "    0   0   0   0  12   0   0   0   0   0]\n",
      " [  0   0   0   0   0   0   2   0   0   0   0   0   0   0   0   0   0   0\n",
      "    0   0   0   0   0   8   0   0   0   0]\n",
      " [  0   0   0   0   0   0  14   0   0   0   0   0   0   0   0   0   0   0\n",
      "    0   0   0   0   0   0  65   0   0   0]\n",
      " [  0   0   1   0   0   0  26   0   0   0   0   0   0   0   0   0   0   0\n",
      "    2   0   2   0   0   0   0  30   0   0]\n",
      " [  0   0   0   0   0   0  10   0   0   0   0   0   0   0   0   0   0   0\n",
      "    0   0   0   0   0   0   0   0  97   0]\n",
      " [  0   0   0   0   0   0   3   0   0   0   0   0   0   0   0   0   0   1\n",
      "    0   0   0   0   0   0   0   0   0   0]]\n"
     ]
    }
   ],
   "source": [
    "print(classification_report(y_test, y_pred))\n",
    "print(confusion_matrix(y_test, y_pred))"
   ]
  },
  {
   "cell_type": "code",
   "execution_count": 20,
   "metadata": {},
   "outputs": [
    {
     "name": "stdout",
     "output_type": "stream",
     "text": [
      "['Jewellery' 'Computers' 'Computers' ... 'Tools & Hardware' 'Jewellery'\n",
      " 'Home Decor & Festive Needs']\n",
      "0.7534316217590239\n"
     ]
    }
   ],
   "source": [
    "clf = Pipeline([('vect', CountVectorizer()),\n",
    "                     ('tfidf', TfidfTransformer()),\n",
    "                     ('clf', KNeighborsClassifier(n_neighbors=5)),\n",
    "                     ])\n",
    "\n",
    "clf.fit(X_train, y_train)\n",
    "\n",
    "y_pred = clf.predict(X_test)\n",
    "print(y_pred)\n",
    "\n",
    "print(accuracy_score(y_test, y_pred))\n",
    "# print(classification_report(y_test, y_pred))\n",
    "# print(confusion_matrix(y_test, y_pred))"
   ]
  },
  {
   "cell_type": "code",
   "execution_count": 21,
   "metadata": {},
   "outputs": [
    {
     "name": "stdout",
     "output_type": "stream",
     "text": [
      "0.782418001525553\n"
     ]
    }
   ],
   "source": [
    "y_train_pred = clf.predict(X_train)\n",
    "\n",
    "print(accuracy_score(y_train, y_train_pred))\n",
    "# print(classification_report(y_train, y_train_pred))\n",
    "# print(confusion_matrix(y_train, y_train_pred))"
   ]
  },
  {
   "cell_type": "code",
   "execution_count": 22,
   "metadata": {},
   "outputs": [
    {
     "name": "stdout",
     "output_type": "stream",
     "text": [
      "0.58827413057891\n"
     ]
    }
   ],
   "source": [
    "clf = Pipeline([('vect', CountVectorizer()),\n",
    "                     ('tfidf', TfidfTransformer()),\n",
    "                     ('clf', KNeighborsClassifier()),\n",
    "                     ])\n",
    "scores = cross_validate(clf, X, y, cv=5, return_train_score=False)\n",
    "print(np.mean(scores[\"test_score\"]))"
   ]
  },
  {
   "cell_type": "code",
   "execution_count": 29,
   "metadata": {},
   "outputs": [
    {
     "name": "stdout",
     "output_type": "stream",
     "text": [
      "['Jewellery' 'Computers' 'Beauty and Personal Care' ... 'Tools & Hardware'\n",
      " 'Jewellery' 'Home Decor & Festive Needs']\n",
      "0.9659379766141332\n"
     ]
    }
   ],
   "source": [
    "# SVM Classifier with Count Vectorizer\n",
    "\n",
    "from sklearn import svm\n",
    "\n",
    "X_train_features, X_test_features = TFIDF(X_train, X_test)\n",
    "clf = svm.SVC()\n",
    "clf.fit(X_train_features, y_train)\n",
    "\n",
    "y_pred = clf.predict(X_test_features)\n",
    "print(y_pred)\n",
    "\n",
    "print(accuracy_score(y_test, y_pred))\n",
    "# print(classification_report(y_test, y_pred))\n",
    "# print(confusion_matrix(y_test, y_pred))"
   ]
  },
  {
   "cell_type": "code",
   "execution_count": 30,
   "metadata": {},
   "outputs": [
    {
     "name": "stdout",
     "output_type": "stream",
     "text": [
      "0.9951690821256038\n"
     ]
    }
   ],
   "source": [
    "y_train_pred = clf.predict(X_train_features)\n",
    "\n",
    "print(accuracy_score(y_train, y_train_pred))\n",
    "# print(classification_report(y_train, y_train_pred))\n",
    "# print(confusion_matrix(y_train, y_train_pred))"
   ]
  },
  {
   "cell_type": "code",
   "execution_count": 28,
   "metadata": {},
   "outputs": [
    {
     "name": "stdout",
     "output_type": "stream",
     "text": [
      "0.8636738449869064\n"
     ]
    }
   ],
   "source": [
    "clf = svm.SVC()\n",
    "X_features = CountVectorizer().fit_transform(X)\n",
    "scores = cross_validate(clf, X_features, y, cv=5, return_train_score=False)\n",
    "print(np.mean(scores[\"test_score\"]))"
   ]
  },
  {
   "cell_type": "code",
   "execution_count": null,
   "metadata": {},
   "outputs": [],
   "source": []
  }
 ],
 "metadata": {
  "kernelspec": {
   "display_name": "Python 3",
   "language": "python",
   "name": "python3"
  },
  "language_info": {
   "codemirror_mode": {
    "name": "ipython",
    "version": 3
   },
   "file_extension": ".py",
   "mimetype": "text/x-python",
   "name": "python",
   "nbconvert_exporter": "python",
   "pygments_lexer": "ipython3",
   "version": "3.8.5"
  }
 },
 "nbformat": 4,
 "nbformat_minor": 4
}
